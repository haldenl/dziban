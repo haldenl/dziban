{
 "cells": [
  {
   "cell_type": "code",
   "execution_count": 1,
   "metadata": {},
   "outputs": [],
   "source": [
    "from dziban.mkiv import Chart\n",
    "from vega_datasets import data\n",
    "from copy import deepcopy\n",
    "import json\n"
   ]
  },
  {
   "cell_type": "code",
   "execution_count": 2,
   "metadata": {},
   "outputs": [
    {
     "data": {
      "text/html": [
       "<div>\n",
       "<style scoped>\n",
       "    .dataframe tbody tr th:only-of-type {\n",
       "        vertical-align: middle;\n",
       "    }\n",
       "\n",
       "    .dataframe tbody tr th {\n",
       "        vertical-align: top;\n",
       "    }\n",
       "\n",
       "    .dataframe thead th {\n",
       "        text-align: right;\n",
       "    }\n",
       "</style>\n",
       "<table border=\"1\" class=\"dataframe\">\n",
       "  <thead>\n",
       "    <tr style=\"text-align: right;\">\n",
       "      <th></th>\n",
       "      <th>Creative_Type</th>\n",
       "      <th>Director</th>\n",
       "      <th>Distributor</th>\n",
       "      <th>IMDB_Rating</th>\n",
       "      <th>IMDB_Votes</th>\n",
       "      <th>MPAA_Rating</th>\n",
       "      <th>Major_Genre</th>\n",
       "      <th>Production_Budget</th>\n",
       "      <th>Release_Date</th>\n",
       "      <th>Rotten_Tomatoes_Rating</th>\n",
       "      <th>Running_Time_min</th>\n",
       "      <th>Source</th>\n",
       "      <th>Title</th>\n",
       "      <th>US_DVD_Sales</th>\n",
       "      <th>US_Gross</th>\n",
       "      <th>Worldwide_Gross</th>\n",
       "    </tr>\n",
       "  </thead>\n",
       "  <tbody>\n",
       "    <tr>\n",
       "      <th>0</th>\n",
       "      <td>None</td>\n",
       "      <td>None</td>\n",
       "      <td>Gramercy</td>\n",
       "      <td>6.1</td>\n",
       "      <td>1071.0</td>\n",
       "      <td>R</td>\n",
       "      <td>None</td>\n",
       "      <td>8000000.0</td>\n",
       "      <td>Jun 12 1998</td>\n",
       "      <td>NaN</td>\n",
       "      <td>NaN</td>\n",
       "      <td>None</td>\n",
       "      <td>The Land Girls</td>\n",
       "      <td>NaN</td>\n",
       "      <td>146083.0</td>\n",
       "      <td>146083.0</td>\n",
       "    </tr>\n",
       "  </tbody>\n",
       "</table>\n",
       "</div>"
      ],
      "text/plain": [
       "  Creative_Type Director Distributor  IMDB_Rating  IMDB_Votes MPAA_Rating  \\\n",
       "0          None     None    Gramercy          6.1      1071.0           R   \n",
       "\n",
       "  Major_Genre  Production_Budget Release_Date  Rotten_Tomatoes_Rating  \\\n",
       "0        None          8000000.0  Jun 12 1998                     NaN   \n",
       "\n",
       "   Running_Time_min Source           Title  US_DVD_Sales  US_Gross  \\\n",
       "0               NaN   None  The Land Girls           NaN  146083.0   \n",
       "\n",
       "   Worldwide_Gross  \n",
       "0         146083.0  "
      ]
     },
     "execution_count": 2,
     "metadata": {},
     "output_type": "execute_result"
    }
   ],
   "source": [
    "movies = data('movies')\n",
    "movies.head(1)"
   ]
  },
  {
   "cell_type": "code",
   "execution_count": 3,
   "metadata": {},
   "outputs": [
    {
     "name": "stdout",
     "output_type": "stream",
     "text": [
      "['clingo', '--outf=2', '--quiet=1,2,2']\n",
      "define.lp\n",
      "generate.lp\n",
      "hard.lp\n",
      "soft.lp\n",
      "weights.lp\n",
      "assign_weights.lp\n",
      "output.lp\n",
      "compare.lp\n",
      "assign_compare_weights.lp\n",
      "compare_weights.lp\n",
      "optimize_draco.lp\n",
      "['clingo', '--outf=2', '--quiet=1,2,2', '--opt-mode=OptN', '--models=20', '--warn=no-atom-undefined']\n"
     ]
    },
    {
     "name": "stderr",
     "output_type": "stream",
     "text": [
      "INFO:draco.run:Constraints are unsatisfiable.\n"
     ]
    },
    {
     "ename": "TypeError",
     "evalue": "'NoneType' object is not iterable",
     "output_type": "error",
     "traceback": [
      "\u001b[0;31m---------------------------------------------------------------------------\u001b[0m",
      "\u001b[0;31mTypeError\u001b[0m                                 Traceback (most recent call last)",
      "\u001b[0;32m/anaconda3/lib/python3.6/site-packages/IPython/core/formatters.py\u001b[0m in \u001b[0;36m__call__\u001b[0;34m(self, obj, include, exclude)\u001b[0m\n\u001b[1;32m    968\u001b[0m \u001b[0;34m\u001b[0m\u001b[0m\n\u001b[1;32m    969\u001b[0m             \u001b[0;32mif\u001b[0m \u001b[0mmethod\u001b[0m \u001b[0;32mis\u001b[0m \u001b[0;32mnot\u001b[0m \u001b[0;32mNone\u001b[0m\u001b[0;34m:\u001b[0m\u001b[0;34m\u001b[0m\u001b[0;34m\u001b[0m\u001b[0m\n\u001b[0;32m--> 970\u001b[0;31m                 \u001b[0;32mreturn\u001b[0m \u001b[0mmethod\u001b[0m\u001b[0;34m(\u001b[0m\u001b[0minclude\u001b[0m\u001b[0;34m=\u001b[0m\u001b[0minclude\u001b[0m\u001b[0;34m,\u001b[0m \u001b[0mexclude\u001b[0m\u001b[0;34m=\u001b[0m\u001b[0mexclude\u001b[0m\u001b[0;34m)\u001b[0m\u001b[0;34m\u001b[0m\u001b[0;34m\u001b[0m\u001b[0m\n\u001b[0m\u001b[1;32m    971\u001b[0m             \u001b[0;32mreturn\u001b[0m \u001b[0;32mNone\u001b[0m\u001b[0;34m\u001b[0m\u001b[0;34m\u001b[0m\u001b[0m\n\u001b[1;32m    972\u001b[0m         \u001b[0;32melse\u001b[0m\u001b[0;34m:\u001b[0m\u001b[0;34m\u001b[0m\u001b[0;34m\u001b[0m\u001b[0m\n",
      "\u001b[0;32m~/dziban/dziban/mkiv/chart.py\u001b[0m in \u001b[0;36m_repr_mimebundle_\u001b[0;34m(self, include, exclude)\u001b[0m\n\u001b[1;32m    208\u001b[0m \u001b[0;34m\u001b[0m\u001b[0m\n\u001b[1;32m    209\u001b[0m   \u001b[0;32mdef\u001b[0m \u001b[0m_repr_mimebundle_\u001b[0m\u001b[0;34m(\u001b[0m\u001b[0mself\u001b[0m\u001b[0;34m,\u001b[0m \u001b[0minclude\u001b[0m\u001b[0;34m=\u001b[0m\u001b[0;32mNone\u001b[0m\u001b[0;34m,\u001b[0m \u001b[0mexclude\u001b[0m\u001b[0;34m=\u001b[0m\u001b[0;32mNone\u001b[0m\u001b[0;34m)\u001b[0m\u001b[0;34m:\u001b[0m\u001b[0;34m\u001b[0m\u001b[0;34m\u001b[0m\u001b[0m\n\u001b[0;32m--> 210\u001b[0;31m     \u001b[0;32mreturn\u001b[0m \u001b[0mself\u001b[0m\u001b[0;34m.\u001b[0m\u001b[0m_get_render\u001b[0m\u001b[0;34m(\u001b[0m\u001b[0;34m)\u001b[0m\u001b[0;34m.\u001b[0m\u001b[0m_repr_mimebundle_\u001b[0m\u001b[0;34m(\u001b[0m\u001b[0minclude\u001b[0m\u001b[0;34m,\u001b[0m \u001b[0mexclude\u001b[0m\u001b[0;34m)\u001b[0m\u001b[0;34m\u001b[0m\u001b[0;34m\u001b[0m\u001b[0m\n\u001b[0m",
      "\u001b[0;32m~/dziban/dziban/mkiv/chart.py\u001b[0m in \u001b[0;36m_get_render\u001b[0;34m(self)\u001b[0m\n\u001b[1;32m    204\u001b[0m \u001b[0;34m\u001b[0m\u001b[0m\n\u001b[1;32m    205\u001b[0m   \u001b[0;32mdef\u001b[0m \u001b[0m_get_render\u001b[0m\u001b[0;34m(\u001b[0m\u001b[0mself\u001b[0m\u001b[0;34m)\u001b[0m\u001b[0;34m:\u001b[0m\u001b[0;34m\u001b[0m\u001b[0;34m\u001b[0m\u001b[0m\n\u001b[0;32m--> 206\u001b[0;31m     \u001b[0mvegalite\u001b[0m \u001b[0;34m=\u001b[0m \u001b[0mself\u001b[0m\u001b[0;34m.\u001b[0m\u001b[0m_get_vegalite\u001b[0m\u001b[0;34m(\u001b[0m\u001b[0;34m)\u001b[0m\u001b[0;34m\u001b[0m\u001b[0;34m\u001b[0m\u001b[0m\n\u001b[0m\u001b[1;32m    207\u001b[0m     \u001b[0;32mreturn\u001b[0m \u001b[0mVegaLite\u001b[0m\u001b[0;34m(\u001b[0m\u001b[0mvegalite\u001b[0m\u001b[0;34m,\u001b[0m \u001b[0mself\u001b[0m\u001b[0;34m.\u001b[0m\u001b[0m_data\u001b[0m\u001b[0;34m)\u001b[0m\u001b[0;34m\u001b[0m\u001b[0;34m\u001b[0m\u001b[0m\n\u001b[1;32m    208\u001b[0m \u001b[0;34m\u001b[0m\u001b[0m\n",
      "\u001b[0;32m~/dziban/dziban/mkiv/chart.py\u001b[0m in \u001b[0;36m_get_vegalite\u001b[0;34m(self)\u001b[0m\n\u001b[1;32m    198\u001b[0m \u001b[0;34m\u001b[0m\u001b[0m\n\u001b[1;32m    199\u001b[0m   \u001b[0;32mdef\u001b[0m \u001b[0m_get_vegalite\u001b[0m\u001b[0;34m(\u001b[0m\u001b[0mself\u001b[0m\u001b[0;34m)\u001b[0m\u001b[0;34m:\u001b[0m\u001b[0;34m\u001b[0m\u001b[0;34m\u001b[0m\u001b[0m\n\u001b[0;32m--> 200\u001b[0;31m     \u001b[0msol\u001b[0m \u001b[0;34m=\u001b[0m \u001b[0mself\u001b[0m\u001b[0;34m.\u001b[0m\u001b[0m_get_draco_sol\u001b[0m\u001b[0;34m(\u001b[0m\u001b[0;34m)\u001b[0m\u001b[0;34m\u001b[0m\u001b[0;34m\u001b[0m\u001b[0m\n\u001b[0m\u001b[1;32m    201\u001b[0m \u001b[0;34m\u001b[0m\u001b[0m\n\u001b[1;32m    202\u001b[0m     \u001b[0mvegalite\u001b[0m \u001b[0;34m=\u001b[0m \u001b[0msol\u001b[0m\u001b[0;34m.\u001b[0m\u001b[0mas_vl\u001b[0m\u001b[0;34m(\u001b[0m\u001b[0mChart\u001b[0m\u001b[0;34m.\u001b[0m\u001b[0mDEFAULT_NAME\u001b[0m\u001b[0;34m)\u001b[0m\u001b[0;34m\u001b[0m\u001b[0;34m\u001b[0m\u001b[0m\n",
      "\u001b[0;32m~/dziban/dziban/mkiv/chart.py\u001b[0m in \u001b[0;36m_get_draco_sol\u001b[0;34m(self)\u001b[0m\n\u001b[1;32m     65\u001b[0m   \u001b[0;32mdef\u001b[0m \u001b[0m_get_draco_sol\u001b[0m\u001b[0;34m(\u001b[0m\u001b[0mself\u001b[0m\u001b[0;34m)\u001b[0m\u001b[0;34m:\u001b[0m\u001b[0;34m\u001b[0m\u001b[0;34m\u001b[0m\u001b[0m\n\u001b[1;32m     66\u001b[0m     \u001b[0;32mif\u001b[0m \u001b[0;34m(\u001b[0m\u001b[0mself\u001b[0m\u001b[0;34m.\u001b[0m\u001b[0m_anchor\u001b[0m\u001b[0;34m)\u001b[0m\u001b[0;34m:\u001b[0m\u001b[0;34m\u001b[0m\u001b[0;34m\u001b[0m\u001b[0m\n\u001b[0;32m---> 67\u001b[0;31m       \u001b[0mtopk\u001b[0m \u001b[0;34m=\u001b[0m \u001b[0mself\u001b[0m\u001b[0;34m.\u001b[0m\u001b[0m_get_topk_from_anchor\u001b[0m\u001b[0;34m(\u001b[0m\u001b[0;34m)\u001b[0m\u001b[0;34m\u001b[0m\u001b[0;34m\u001b[0m\u001b[0m\n\u001b[0m\u001b[1;32m     68\u001b[0m       \u001b[0;32mreturn\u001b[0m \u001b[0mtopk\u001b[0m\u001b[0;34m[\u001b[0m\u001b[0;36m0\u001b[0m\u001b[0;34m]\u001b[0m\u001b[0;34m[\u001b[0m\u001b[0;36m0\u001b[0m\u001b[0;34m]\u001b[0m\u001b[0;34m\u001b[0m\u001b[0;34m\u001b[0m\u001b[0m\n\u001b[1;32m     69\u001b[0m     \u001b[0;32melse\u001b[0m\u001b[0;34m:\u001b[0m\u001b[0;34m\u001b[0m\u001b[0;34m\u001b[0m\u001b[0m\n",
      "\u001b[0;32m~/dziban/dziban/mkiv/chart.py\u001b[0m in \u001b[0;36m_get_topk_from_anchor\u001b[0;34m(self)\u001b[0m\n\u001b[1;32m     92\u001b[0m     \u001b[0;31m# best_graphscape = draco(query, files=opt_graphscape_files, topk=True, k=Chart.K, silence_warnings=True)\u001b[0m\u001b[0;34m\u001b[0m\u001b[0;34m\u001b[0m\u001b[0;34m\u001b[0m\u001b[0m\n\u001b[1;32m     93\u001b[0m \u001b[0;34m\u001b[0m\u001b[0m\n\u001b[0;32m---> 94\u001b[0;31m     \u001b[0mgood\u001b[0m \u001b[0;34m=\u001b[0m \u001b[0mfilter_sols\u001b[0m\u001b[0;34m(\u001b[0m\u001b[0mbest_draco\u001b[0m\u001b[0;34m)\u001b[0m\u001b[0;34m\u001b[0m\u001b[0;34m\u001b[0m\u001b[0m\n\u001b[0m\u001b[1;32m     95\u001b[0m \u001b[0;34m\u001b[0m\u001b[0m\n\u001b[1;32m     96\u001b[0m     \u001b[0;32mif\u001b[0m \u001b[0;34m(\u001b[0m\u001b[0mlen\u001b[0m\u001b[0;34m(\u001b[0m\u001b[0mgood\u001b[0m\u001b[0;34m)\u001b[0m \u001b[0;34m==\u001b[0m \u001b[0;36m1\u001b[0m\u001b[0;34m)\u001b[0m\u001b[0;34m:\u001b[0m\u001b[0;34m\u001b[0m\u001b[0;34m\u001b[0m\u001b[0m\n",
      "\u001b[0;32m~/dziban/dziban/mkiv/util.py\u001b[0m in \u001b[0;36mfilter_sols\u001b[0;34m(sols)\u001b[0m\n\u001b[1;32m      5\u001b[0m \u001b[0;32mdef\u001b[0m \u001b[0mfilter_sols\u001b[0m\u001b[0;34m(\u001b[0m\u001b[0msols\u001b[0m\u001b[0;34m)\u001b[0m\u001b[0;34m:\u001b[0m\u001b[0;34m\u001b[0m\u001b[0;34m\u001b[0m\u001b[0m\n\u001b[1;32m      6\u001b[0m   \u001b[0mgood\u001b[0m \u001b[0;34m=\u001b[0m \u001b[0;34m[\u001b[0m\u001b[0;34m]\u001b[0m\u001b[0;34m\u001b[0m\u001b[0;34m\u001b[0m\u001b[0m\n\u001b[0;32m----> 7\u001b[0;31m   \u001b[0;32mfor\u001b[0m \u001b[0mv1\u001b[0m \u001b[0;32min\u001b[0m \u001b[0msols\u001b[0m\u001b[0;34m:\u001b[0m\u001b[0;34m\u001b[0m\u001b[0;34m\u001b[0m\u001b[0m\n\u001b[0m\u001b[1;32m      8\u001b[0m     \u001b[0mbetter\u001b[0m \u001b[0;34m=\u001b[0m \u001b[0;34m[\u001b[0m\u001b[0mv1\u001b[0m\u001b[0;34m.\u001b[0m\u001b[0mg\u001b[0m \u001b[0;34m<=\u001b[0m \u001b[0mv2\u001b[0m\u001b[0;34m.\u001b[0m\u001b[0mg\u001b[0m \u001b[0;32mor\u001b[0m \u001b[0mv1\u001b[0m\u001b[0;34m.\u001b[0m\u001b[0md\u001b[0m \u001b[0;34m<=\u001b[0m \u001b[0mv2\u001b[0m\u001b[0;34m.\u001b[0m\u001b[0md\u001b[0m \u001b[0;32mfor\u001b[0m \u001b[0mv2\u001b[0m \u001b[0;32min\u001b[0m \u001b[0msols\u001b[0m\u001b[0;34m]\u001b[0m\u001b[0;34m\u001b[0m\u001b[0;34m\u001b[0m\u001b[0m\n\u001b[1;32m      9\u001b[0m     \u001b[0maccept\u001b[0m \u001b[0;34m=\u001b[0m \u001b[0mall\u001b[0m\u001b[0;34m(\u001b[0m\u001b[0mbetter\u001b[0m\u001b[0;34m)\u001b[0m\u001b[0;34m\u001b[0m\u001b[0;34m\u001b[0m\u001b[0m\n",
      "\u001b[0;31mTypeError\u001b[0m: 'NoneType' object is not iterable"
     ]
    },
    {
     "data": {
      "text/plain": [
       "<dziban.mkiv.chart.Chart at 0x11d2326d8>"
      ]
     },
     "execution_count": 3,
     "metadata": {},
     "output_type": "execute_result"
    }
   ],
   "source": [
    "base = Chart(movies).field('IMDB_Rating')\n",
    "base.mark('line').anchor_on(base)\n"
   ]
  },
  {
   "cell_type": "code",
   "execution_count": 4,
   "metadata": {},
   "outputs": [
    {
     "name": "stdout",
     "output_type": "stream",
     "text": [
      "['clingo', '--outf=2', '--quiet=1,2,2']\n",
      "define.lp\n",
      "generate.lp\n",
      "hard.lp\n",
      "soft.lp\n",
      "weights.lp\n",
      "assign_weights.lp\n",
      "output.lp\n",
      "compare.lp\n",
      "assign_compare_weights.lp\n",
      "compare_weights.lp\n",
      "optimize_draco.lp\n",
      "['clingo', '--outf=2', '--quiet=1,2,2', '--opt-mode=OptN', '--models=20', '--warn=no-atom-undefined']\n"
     ]
    },
    {
     "name": "stderr",
     "output_type": "stream",
     "text": [
      "INFO:draco.run:Constraints are unsatisfiable.\n"
     ]
    },
    {
     "ename": "TypeError",
     "evalue": "'NoneType' object is not iterable",
     "output_type": "error",
     "traceback": [
      "\u001b[0;31m---------------------------------------------------------------------------\u001b[0m",
      "\u001b[0;31mTypeError\u001b[0m                                 Traceback (most recent call last)",
      "\u001b[0;32m/anaconda3/lib/python3.6/site-packages/IPython/core/formatters.py\u001b[0m in \u001b[0;36m__call__\u001b[0;34m(self, obj, include, exclude)\u001b[0m\n\u001b[1;32m    968\u001b[0m \u001b[0;34m\u001b[0m\u001b[0m\n\u001b[1;32m    969\u001b[0m             \u001b[0;32mif\u001b[0m \u001b[0mmethod\u001b[0m \u001b[0;32mis\u001b[0m \u001b[0;32mnot\u001b[0m \u001b[0;32mNone\u001b[0m\u001b[0;34m:\u001b[0m\u001b[0;34m\u001b[0m\u001b[0;34m\u001b[0m\u001b[0m\n\u001b[0;32m--> 970\u001b[0;31m                 \u001b[0;32mreturn\u001b[0m \u001b[0mmethod\u001b[0m\u001b[0;34m(\u001b[0m\u001b[0minclude\u001b[0m\u001b[0;34m=\u001b[0m\u001b[0minclude\u001b[0m\u001b[0;34m,\u001b[0m \u001b[0mexclude\u001b[0m\u001b[0;34m=\u001b[0m\u001b[0mexclude\u001b[0m\u001b[0;34m)\u001b[0m\u001b[0;34m\u001b[0m\u001b[0;34m\u001b[0m\u001b[0m\n\u001b[0m\u001b[1;32m    971\u001b[0m             \u001b[0;32mreturn\u001b[0m \u001b[0;32mNone\u001b[0m\u001b[0;34m\u001b[0m\u001b[0;34m\u001b[0m\u001b[0m\n\u001b[1;32m    972\u001b[0m         \u001b[0;32melse\u001b[0m\u001b[0;34m:\u001b[0m\u001b[0;34m\u001b[0m\u001b[0;34m\u001b[0m\u001b[0m\n",
      "\u001b[0;32m~/dziban/dziban/mkiv/chart.py\u001b[0m in \u001b[0;36m_repr_mimebundle_\u001b[0;34m(self, include, exclude)\u001b[0m\n\u001b[1;32m    208\u001b[0m \u001b[0;34m\u001b[0m\u001b[0m\n\u001b[1;32m    209\u001b[0m   \u001b[0;32mdef\u001b[0m \u001b[0m_repr_mimebundle_\u001b[0m\u001b[0;34m(\u001b[0m\u001b[0mself\u001b[0m\u001b[0;34m,\u001b[0m \u001b[0minclude\u001b[0m\u001b[0;34m=\u001b[0m\u001b[0;32mNone\u001b[0m\u001b[0;34m,\u001b[0m \u001b[0mexclude\u001b[0m\u001b[0;34m=\u001b[0m\u001b[0;32mNone\u001b[0m\u001b[0;34m)\u001b[0m\u001b[0;34m:\u001b[0m\u001b[0;34m\u001b[0m\u001b[0;34m\u001b[0m\u001b[0m\n\u001b[0;32m--> 210\u001b[0;31m     \u001b[0;32mreturn\u001b[0m \u001b[0mself\u001b[0m\u001b[0;34m.\u001b[0m\u001b[0m_get_render\u001b[0m\u001b[0;34m(\u001b[0m\u001b[0;34m)\u001b[0m\u001b[0;34m.\u001b[0m\u001b[0m_repr_mimebundle_\u001b[0m\u001b[0;34m(\u001b[0m\u001b[0minclude\u001b[0m\u001b[0;34m,\u001b[0m \u001b[0mexclude\u001b[0m\u001b[0;34m)\u001b[0m\u001b[0;34m\u001b[0m\u001b[0;34m\u001b[0m\u001b[0m\n\u001b[0m",
      "\u001b[0;32m~/dziban/dziban/mkiv/chart.py\u001b[0m in \u001b[0;36m_get_render\u001b[0;34m(self)\u001b[0m\n\u001b[1;32m    204\u001b[0m \u001b[0;34m\u001b[0m\u001b[0m\n\u001b[1;32m    205\u001b[0m   \u001b[0;32mdef\u001b[0m \u001b[0m_get_render\u001b[0m\u001b[0;34m(\u001b[0m\u001b[0mself\u001b[0m\u001b[0;34m)\u001b[0m\u001b[0;34m:\u001b[0m\u001b[0;34m\u001b[0m\u001b[0;34m\u001b[0m\u001b[0m\n\u001b[0;32m--> 206\u001b[0;31m     \u001b[0mvegalite\u001b[0m \u001b[0;34m=\u001b[0m \u001b[0mself\u001b[0m\u001b[0;34m.\u001b[0m\u001b[0m_get_vegalite\u001b[0m\u001b[0;34m(\u001b[0m\u001b[0;34m)\u001b[0m\u001b[0;34m\u001b[0m\u001b[0;34m\u001b[0m\u001b[0m\n\u001b[0m\u001b[1;32m    207\u001b[0m     \u001b[0;32mreturn\u001b[0m \u001b[0mVegaLite\u001b[0m\u001b[0;34m(\u001b[0m\u001b[0mvegalite\u001b[0m\u001b[0;34m,\u001b[0m \u001b[0mself\u001b[0m\u001b[0;34m.\u001b[0m\u001b[0m_data\u001b[0m\u001b[0;34m)\u001b[0m\u001b[0;34m\u001b[0m\u001b[0;34m\u001b[0m\u001b[0m\n\u001b[1;32m    208\u001b[0m \u001b[0;34m\u001b[0m\u001b[0m\n",
      "\u001b[0;32m~/dziban/dziban/mkiv/chart.py\u001b[0m in \u001b[0;36m_get_vegalite\u001b[0;34m(self)\u001b[0m\n\u001b[1;32m    198\u001b[0m \u001b[0;34m\u001b[0m\u001b[0m\n\u001b[1;32m    199\u001b[0m   \u001b[0;32mdef\u001b[0m \u001b[0m_get_vegalite\u001b[0m\u001b[0;34m(\u001b[0m\u001b[0mself\u001b[0m\u001b[0;34m)\u001b[0m\u001b[0;34m:\u001b[0m\u001b[0;34m\u001b[0m\u001b[0;34m\u001b[0m\u001b[0m\n\u001b[0;32m--> 200\u001b[0;31m     \u001b[0msol\u001b[0m \u001b[0;34m=\u001b[0m \u001b[0mself\u001b[0m\u001b[0;34m.\u001b[0m\u001b[0m_get_draco_sol\u001b[0m\u001b[0;34m(\u001b[0m\u001b[0;34m)\u001b[0m\u001b[0;34m\u001b[0m\u001b[0;34m\u001b[0m\u001b[0m\n\u001b[0m\u001b[1;32m    201\u001b[0m \u001b[0;34m\u001b[0m\u001b[0m\n\u001b[1;32m    202\u001b[0m     \u001b[0mvegalite\u001b[0m \u001b[0;34m=\u001b[0m \u001b[0msol\u001b[0m\u001b[0;34m.\u001b[0m\u001b[0mas_vl\u001b[0m\u001b[0;34m(\u001b[0m\u001b[0mChart\u001b[0m\u001b[0;34m.\u001b[0m\u001b[0mDEFAULT_NAME\u001b[0m\u001b[0;34m)\u001b[0m\u001b[0;34m\u001b[0m\u001b[0;34m\u001b[0m\u001b[0m\n",
      "\u001b[0;32m~/dziban/dziban/mkiv/chart.py\u001b[0m in \u001b[0;36m_get_draco_sol\u001b[0;34m(self)\u001b[0m\n\u001b[1;32m     65\u001b[0m   \u001b[0;32mdef\u001b[0m \u001b[0m_get_draco_sol\u001b[0m\u001b[0;34m(\u001b[0m\u001b[0mself\u001b[0m\u001b[0;34m)\u001b[0m\u001b[0;34m:\u001b[0m\u001b[0;34m\u001b[0m\u001b[0;34m\u001b[0m\u001b[0m\n\u001b[1;32m     66\u001b[0m     \u001b[0;32mif\u001b[0m \u001b[0;34m(\u001b[0m\u001b[0mself\u001b[0m\u001b[0;34m.\u001b[0m\u001b[0m_anchor\u001b[0m\u001b[0;34m)\u001b[0m\u001b[0;34m:\u001b[0m\u001b[0;34m\u001b[0m\u001b[0;34m\u001b[0m\u001b[0m\n\u001b[0;32m---> 67\u001b[0;31m       \u001b[0mtopk\u001b[0m \u001b[0;34m=\u001b[0m \u001b[0mself\u001b[0m\u001b[0;34m.\u001b[0m\u001b[0m_get_topk_from_anchor\u001b[0m\u001b[0;34m(\u001b[0m\u001b[0;34m)\u001b[0m\u001b[0;34m\u001b[0m\u001b[0;34m\u001b[0m\u001b[0m\n\u001b[0m\u001b[1;32m     68\u001b[0m       \u001b[0;32mreturn\u001b[0m \u001b[0mtopk\u001b[0m\u001b[0;34m[\u001b[0m\u001b[0;36m0\u001b[0m\u001b[0;34m]\u001b[0m\u001b[0;34m[\u001b[0m\u001b[0;36m0\u001b[0m\u001b[0;34m]\u001b[0m\u001b[0;34m\u001b[0m\u001b[0;34m\u001b[0m\u001b[0m\n\u001b[1;32m     69\u001b[0m     \u001b[0;32melse\u001b[0m\u001b[0;34m:\u001b[0m\u001b[0;34m\u001b[0m\u001b[0;34m\u001b[0m\u001b[0m\n",
      "\u001b[0;32m~/dziban/dziban/mkiv/chart.py\u001b[0m in \u001b[0;36m_get_topk_from_anchor\u001b[0;34m(self)\u001b[0m\n\u001b[1;32m     92\u001b[0m     \u001b[0;31m# best_graphscape = draco(query, files=opt_graphscape_files, topk=True, k=Chart.K, silence_warnings=True)\u001b[0m\u001b[0;34m\u001b[0m\u001b[0;34m\u001b[0m\u001b[0;34m\u001b[0m\u001b[0m\n\u001b[1;32m     93\u001b[0m \u001b[0;34m\u001b[0m\u001b[0m\n\u001b[0;32m---> 94\u001b[0;31m     \u001b[0mgood\u001b[0m \u001b[0;34m=\u001b[0m \u001b[0mfilter_sols\u001b[0m\u001b[0;34m(\u001b[0m\u001b[0mbest_draco\u001b[0m\u001b[0;34m)\u001b[0m\u001b[0;34m\u001b[0m\u001b[0;34m\u001b[0m\u001b[0m\n\u001b[0m\u001b[1;32m     95\u001b[0m \u001b[0;34m\u001b[0m\u001b[0m\n\u001b[1;32m     96\u001b[0m     \u001b[0;32mif\u001b[0m \u001b[0;34m(\u001b[0m\u001b[0mlen\u001b[0m\u001b[0;34m(\u001b[0m\u001b[0mgood\u001b[0m\u001b[0;34m)\u001b[0m \u001b[0;34m==\u001b[0m \u001b[0;36m1\u001b[0m\u001b[0;34m)\u001b[0m\u001b[0;34m:\u001b[0m\u001b[0;34m\u001b[0m\u001b[0;34m\u001b[0m\u001b[0m\n",
      "\u001b[0;32m~/dziban/dziban/mkiv/util.py\u001b[0m in \u001b[0;36mfilter_sols\u001b[0;34m(sols)\u001b[0m\n\u001b[1;32m      5\u001b[0m \u001b[0;32mdef\u001b[0m \u001b[0mfilter_sols\u001b[0m\u001b[0;34m(\u001b[0m\u001b[0msols\u001b[0m\u001b[0;34m)\u001b[0m\u001b[0;34m:\u001b[0m\u001b[0;34m\u001b[0m\u001b[0;34m\u001b[0m\u001b[0m\n\u001b[1;32m      6\u001b[0m   \u001b[0mgood\u001b[0m \u001b[0;34m=\u001b[0m \u001b[0;34m[\u001b[0m\u001b[0;34m]\u001b[0m\u001b[0;34m\u001b[0m\u001b[0;34m\u001b[0m\u001b[0m\n\u001b[0;32m----> 7\u001b[0;31m   \u001b[0;32mfor\u001b[0m \u001b[0mv1\u001b[0m \u001b[0;32min\u001b[0m \u001b[0msols\u001b[0m\u001b[0;34m:\u001b[0m\u001b[0;34m\u001b[0m\u001b[0;34m\u001b[0m\u001b[0m\n\u001b[0m\u001b[1;32m      8\u001b[0m     \u001b[0mbetter\u001b[0m \u001b[0;34m=\u001b[0m \u001b[0;34m[\u001b[0m\u001b[0mv1\u001b[0m\u001b[0;34m.\u001b[0m\u001b[0mg\u001b[0m \u001b[0;34m<=\u001b[0m \u001b[0mv2\u001b[0m\u001b[0;34m.\u001b[0m\u001b[0mg\u001b[0m \u001b[0;32mor\u001b[0m \u001b[0mv1\u001b[0m\u001b[0;34m.\u001b[0m\u001b[0md\u001b[0m \u001b[0;34m<=\u001b[0m \u001b[0mv2\u001b[0m\u001b[0;34m.\u001b[0m\u001b[0md\u001b[0m \u001b[0;32mfor\u001b[0m \u001b[0mv2\u001b[0m \u001b[0;32min\u001b[0m \u001b[0msols\u001b[0m\u001b[0;34m]\u001b[0m\u001b[0;34m\u001b[0m\u001b[0;34m\u001b[0m\u001b[0m\n\u001b[1;32m      9\u001b[0m     \u001b[0maccept\u001b[0m \u001b[0;34m=\u001b[0m \u001b[0mall\u001b[0m\u001b[0;34m(\u001b[0m\u001b[0mbetter\u001b[0m\u001b[0;34m)\u001b[0m\u001b[0;34m\u001b[0m\u001b[0;34m\u001b[0m\u001b[0m\n",
      "\u001b[0;31mTypeError\u001b[0m: 'NoneType' object is not iterable"
     ]
    },
    {
     "data": {
      "text/plain": [
       "<dziban.mkiv.chart.Chart at 0x11d73b390>"
      ]
     },
     "execution_count": 4,
     "metadata": {},
     "output_type": "execute_result"
    }
   ],
   "source": [
    "base.mark('line').anchor_on(base)"
   ]
  },
  {
   "cell_type": "code",
   "execution_count": 5,
   "metadata": {},
   "outputs": [],
   "source": [
    "base = Chart(movies)"
   ]
  },
  {
   "cell_type": "code",
   "execution_count": 6,
   "metadata": {},
   "outputs": [],
   "source": [
    "q1 = 'IMDB_Rating'\n",
    "q2 = 'Rotten_Tomatoes_Rating'\n",
    "q3 = 'Worldwide_Gross'\n",
    "n1 = 'Major_Genre'\n",
    "n2 = 'MPAA_Rating'\n",
    "n3 = 'Creative_Type'\n",
    "\n",
    "fields = {\n",
    "    'q': [q1, q2, q3],\n",
    "    'n': [n1, n2, n3]\n",
    "}\n",
    "\n",
    "marks = ['point', 'bar', 'line', 'area', 'text', 'tick', 'rect']\n",
    "aggs = ['mean']"
   ]
  },
  {
   "cell_type": "code",
   "execution_count": 7,
   "metadata": {},
   "outputs": [],
   "source": [
    "def get_props_from_transform(transform):\n",
    "    props = {}\n",
    "    if (transform == 'bin'):\n",
    "        props['bin'] = True\n",
    "    elif (transform == 'agg'):\n",
    "        props['aggregate'] = 'mean'\n",
    "        \n",
    "    return props"
   ]
  },
  {
   "cell_type": "code",
   "execution_count": 8,
   "metadata": {},
   "outputs": [],
   "source": [
    "def generate_queries(currdims, targetdims, curr_query, queries):\n",
    "    if (currdims < targetdims):\n",
    "        for fieldtype in ['q', 'n']:\n",
    "            if (fieldtype == 'q'):\n",
    "                for transform in ['raw', 'bin', 'agg']:\n",
    "                    next_query = deepcopy(curr_query)\n",
    "                    next_query.append({ 'fieldtype': fieldtype, 'transform': transform })\n",
    "                    queries.append(next_query)\n",
    "\n",
    "                    generate_queries(currdims + 1, targetdims, next_query, queries)\n",
    "            else:\n",
    "                next_query = deepcopy(curr_query)\n",
    "                next_query.append({ 'fieldtype': fieldtype, 'transform': 'raw' })\n",
    "                queries.append(next_query)\n",
    "\n",
    "                generate_queries(currdims + 1, targetdims, next_query, queries)"
   ]
  },
  {
   "cell_type": "code",
   "execution_count": 9,
   "metadata": {},
   "outputs": [],
   "source": [
    "def dedupe_queries(queries):\n",
    "    seen = set()\n",
    "    \n",
    "    unique = []\n",
    "    for query in queries:\n",
    "        reps = {}\n",
    "        for field in query:\n",
    "            string = '{0}({1})'.format(field['transform'], field['fieldtype'])\n",
    "            if string not in reps:\n",
    "                reps[string] = 0\n",
    "            reps[string] += 1\n",
    "            \n",
    "        stringified = json.dumps(reps, sort_keys=True)\n",
    "        \n",
    "        if stringified not in seen:\n",
    "            seen.add(stringified)\n",
    "            unique.append(query)\n",
    "            \n",
    "    return unique\n",
    "            "
   ]
  },
  {
   "cell_type": "code",
   "execution_count": 10,
   "metadata": {},
   "outputs": [],
   "source": [
    "def query_to_dziban(prior, query, available_fields):\n",
    "    chart = prior\n",
    "    \n",
    "    used_fields = {}\n",
    "    \n",
    "    for field in query:\n",
    "        fieldtype = field['fieldtype']\n",
    "        transform = field['transform']\n",
    "        \n",
    "        fieldname = available_fields[fieldtype].pop(0)\n",
    "    \n",
    "        if (fieldtype not in used_fields):\n",
    "            used_fields[fieldtype] = []\n",
    "        used_fields[fieldtype].append(fieldname)\n",
    "        \n",
    "        props = get_props_from_transform(transform)\n",
    "            \n",
    "        chart = chart.field(fieldname, **props)\n",
    "        \n",
    "    return {\n",
    "        'chart': chart,\n",
    "        'query': query,\n",
    "        'available_fields': available_fields,\n",
    "        'used_fields': used_fields\n",
    "    }\n",
    "        "
   ]
  },
  {
   "cell_type": "code",
   "execution_count": 11,
   "metadata": {},
   "outputs": [],
   "source": [
    "priors = []\n",
    "generate_queries(0, 1, [], priors)\n",
    "priors = dedupe_queries(priors)"
   ]
  },
  {
   "cell_type": "code",
   "execution_count": 12,
   "metadata": {},
   "outputs": [],
   "source": [
    "charts = [query_to_dziban(base, query, deepcopy(fields)) for query in priors]"
   ]
  },
  {
   "cell_type": "code",
   "execution_count": 13,
   "metadata": {},
   "outputs": [],
   "source": [
    "mark_edits = []\n",
    "for mark in marks:\n",
    "    mark_edits.append({\n",
    "        'type': 'mark',\n",
    "        'mark': mark\n",
    "    })"
   ]
  },
  {
   "cell_type": "code",
   "execution_count": 14,
   "metadata": {},
   "outputs": [],
   "source": [
    "add_field_edits = []\n",
    "for fieldtype in ['q', 'n']:\n",
    "    for transform in ['raw', 'bin', 'agg']:\n",
    "        add_field_edits.append({\n",
    "            'type': 'add_field',\n",
    "            'fieldtype': fieldtype,\n",
    "            'transform': transform\n",
    "        })"
   ]
  },
  {
   "cell_type": "code",
   "execution_count": 15,
   "metadata": {},
   "outputs": [],
   "source": [
    "bin_edits = [\n",
    "    {\n",
    "        'type': 'bin'\n",
    "    }\n",
    "]"
   ]
  },
  {
   "cell_type": "code",
   "execution_count": 16,
   "metadata": {},
   "outputs": [],
   "source": [
    "agg_edits = []\n",
    "for agg in aggs:\n",
    "    agg_edits.append(\n",
    "        {\n",
    "            'type': 'agg',\n",
    "            'agg': agg\n",
    "        }\n",
    "    )"
   ]
  },
  {
   "cell_type": "code",
   "execution_count": 17,
   "metadata": {},
   "outputs": [],
   "source": [
    "edits = mark_edits + add_field_edits + bin_edits + agg_edits"
   ]
  },
  {
   "cell_type": "code",
   "execution_count": 18,
   "metadata": {},
   "outputs": [],
   "source": [
    "def edit_dziban(dzi, edit):\n",
    "    edited_chart = dzi['chart']\n",
    "    etype = edit['type']\n",
    "    \n",
    "    if etype == 'mark':\n",
    "        edited_chart = edited_chart.mark(edit['mark'])\n",
    "    elif etype == 'add_field':\n",
    "        available_fields = dzi['available_fields']\n",
    "        field = available_fields[edit['fieldtype']].pop(0)\n",
    "        \n",
    "        if (edit['fieldtype'] not in dzi['used_fields']):\n",
    "            dzi['used_fields'][edit['fieldtype']] = []\n",
    "        dzi['used_fields'][edit['fieldtype']].append(field)\n",
    "        \n",
    "        props = get_props_from_transform(edit['transform'])\n",
    "        \n",
    "        edited_chart = edited_chart.field(field, **props)\n",
    "    elif etype == 'bin':\n",
    "        used_fields = dzi['used_fields']\n",
    "        \n",
    "        if ('q' not in used_fields):\n",
    "            return None\n",
    "        \n",
    "        field_to_bin = used_fields['q'][0]\n",
    "        \n",
    "        edited_chart = edited_chart.field(field_to_bin, bin=True)\n",
    "    elif etype == 'agg':\n",
    "        used_fields = dzi['used_fields']\n",
    "        \n",
    "        if ('q' not in used_fields):\n",
    "            return None\n",
    "        \n",
    "        field_to_agg = used_fields['q'][0]\n",
    "        edited_chart = edited_chart.field(field_to_agg, aggregate=edit['agg'])\n",
    "        \n",
    "    cold = edited_chart\n",
    "    anchored = edited_chart.anchor_on(dzi['chart'])\n",
    "    \n",
    "    return {\n",
    "        'prior': dzi['chart'],\n",
    "        'edit': edit,\n",
    "        'cold': cold,\n",
    "        'anchored': anchored,\n",
    "        'available_fields': dzi['available_fields'],\n",
    "        'used_fields': dzi['used_fields']\n",
    "    }"
   ]
  },
  {
   "cell_type": "code",
   "execution_count": 19,
   "metadata": {},
   "outputs": [],
   "source": [
    "nexts = []\n",
    "for chart in charts:\n",
    "    for edit in edits:\n",
    "        prior = deepcopy(chart)\n",
    "        edited = edit_dziban(prior, edit)\n",
    "        nexts.append(edited)"
   ]
  },
  {
   "cell_type": "code",
   "execution_count": 20,
   "metadata": {},
   "outputs": [
    {
     "name": "stdout",
     "output_type": "stream",
     "text": [
      "0 / 60\n",
      "['clingo', '--outf=2', '--quiet=1,2,2']\n",
      "['clingo', '--outf=2', '--quiet=1,2,2']\n",
      "define.lp\n",
      "generate.lp\n",
      "hard.lp\n",
      "soft.lp\n",
      "weights.lp\n",
      "assign_weights.lp\n",
      "output.lp\n",
      "compare.lp\n",
      "assign_compare_weights.lp\n",
      "compare_weights.lp\n",
      "optimize_draco.lp\n",
      "['clingo', '--outf=2', '--quiet=1,2,2', '--opt-mode=OptN', '--models=20', '--warn=no-atom-undefined']\n"
     ]
    },
    {
     "name": "stderr",
     "output_type": "stream",
     "text": [
      "ERROR:draco.run:stdout: b'{\\n  \"Solver\": \"clingo version 5.3.0\",\\n  \"Input\": [\\n    \"stdin\"\\n  ],\\n  \"Call\": [\\n    {\\n      \"Witnesses\": [\\n        {\\n          \"Value\": [\\n            \"base(\\\\\"anchor0\\\\\")\", \"visualization(\\\\\"view\\\\\")\", \"visualization(\\\\\"anchor0\\\\\")\", \"encoding(\\\\\"view\\\\\",e0)\", \"encoding(\\\\\"anchor0\\\\\",e0)\", \"mark(\\\\\"view\\\\\",point)\", \"mark(\\\\\"anchor0\\\\\",tick)\", \"zero(\\\\\"anchor0\\\\\",e0)\", \"channel(\\\\\"anchor0\\\\\",e0,x)\", \"field(\\\\\"anchor0\\\\\",e0,\\\\\"IMDB_Rating\\\\\")\", \"soft(encoding,\\\\\"view\\\\\",e0)\", \"soft(encoding,\\\\\"anchor0\\\\\",e0)\", \"soft(encoding_field,\\\\\"anchor0\\\\\",e0)\", \"soft(type_q,\\\\\"anchor0\\\\\",e0)\", \"soft(continuous_x,\\\\\"anchor0\\\\\",e0)\", \"type(\\\\\"anchor0\\\\\",e0,quantitative)\", \"compare(edit_point_tick,\\\\\"anchor0\\\\\",\\\\\"view\\\\\",tick,point)\", \"soft(c_d_tick,\\\\\"anchor0\\\\\",_placeholder)\", \"soft_weight(c_d_tick,0)\", \"compare_weight(edit_point_tick,1)\", \"soft_weight(encoding,0)\", \"soft_weight(encoding_field,6)\", \"soft_weight(type_q,0)\", \"soft_weight(continuous_x,0)\", \"channel(\\\\\"view\\\\\",e0,x)\", \"field(\\\\\"view\\\\\",e0,\\\\\"IMDB_Rating\\\\\")\", \"zero(\\\\\"view\\\\\",e0)\", \"type(\\\\\"view\\\\\",e0,quantitative)\", \"soft(c_d_point,\\\\\"view\\\\\",_placeholder)\", \"soft(encoding_field,\\\\\"view\\\\\",e0)\", \"soft(type_q,\\\\\"view\\\\\",e0)\", \"soft(continuous_x,\\\\\"view\\\\\",e0)\", \"soft_weight(c_d_point,10)\"\\n          ]\\n        }\\n      ]\\n    },\\n    {\\n      \"Witnesses\": [\\n        {\\n          \"Value\": [\\n            \"base(\\\\\"anchor0\\\\\")\", \"visualization(\\\\\"view\\\\\")\", \"visualization(\\\\\"anchor0\\\\\")\", \"encoding(\\\\\"view\\\\\",e0)\", \"encoding(\\\\\"anchor0\\\\\",e0)\", \"mark(\\\\\"view\\\\\",point)\", \"mark(\\\\\"anchor0\\\\\",tick)\", \"zero(\\\\\"anchor0\\\\\",e0)\", \"channel(\\\\\"anchor0\\\\\",e0,x)\", \"field(\\\\\"anchor0\\\\\",e0,\\\\\"IMDB_Rating\\\\\")\", \"soft(encoding,\\\\\"view\\\\\",e0)\", \"soft(encoding,\\\\\"anchor0\\\\\",e0)\", \"soft(encoding_field,\\\\\"anchor0\\\\\",e0)\", \"soft(type_q,\\\\\"anchor0\\\\\",e0)\", \"soft(continuous_x,\\\\\"anchor0\\\\\",e0)\", \"type(\\\\\"anchor0\\\\\",e0,quantitative)\", \"compare(edit_point_tick,\\\\\"anchor0\\\\\",\\\\\"view\\\\\",tick,point)\", \"soft(c_d_tick,\\\\\"anchor0\\\\\",_placeholder)\", \"soft_weight(c_d_tick,0)\", \"compare_weight(edit_point_tick,1)\", \"soft_weight(encoding,0)\", \"soft_weight(encoding_field,6)\", \"soft_weight(type_q,0)\", \"soft_weight(continuous_x,0)\", \"channel(\\\\\"view\\\\\",e0,x)\", \"field(\\\\\"view\\\\\",e0,\\\\\"IMDB_Rating\\\\\")\", \"compare(edit_scale,\\\\\"anchor0\\\\\",\\\\\"view\\\\\",e0,e0)\", \"compare_weight(edit_scale,60)\", \"type(\\\\\"view\\\\\",e0,quantitative)\", \"soft(zero_positional,\\\\\"view\\\\\",_placeholder)\", \"soft(c_d_point,\\\\\"view\\\\\",_placeholder)\", \"soft(encoding_field,\\\\\"view\\\\\",e0)\", \"soft(zero,\\\\\"view\\\\\",e0)\", \"soft(type_q,\\\\\"view\\\\\",e0)\", \"soft(continuous_x,\\\\\"view\\\\\",e0)\", \"soft_weight(zero_positional,1)\", \"soft_weight(c_d_point,10)\", \"soft_weight(zero,1)\"\\n          ]\\n        }\\n      ]\\n    },\\n    {\\n      \"Witnesses\": [\\n        {\\n          \"Value\": [\\n            \"base(\\\\\"anchor0\\\\\")\", \"visualization(\\\\\"view\\\\\")\", \"visualization(\\\\\"anchor0\\\\\")\", \"encoding(\\\\\"view\\\\\",e0)\", \"encoding(\\\\\"anchor0\\\\\",e0)\", \"mark(\\\\\"view\\\\\",point)\", \"mark(\\\\\"anchor0\\\\\",tick)\", \"zero(\\\\\"anchor0\\\\\",e0)\", \"channel(\\\\\"anchor0\\\\\",e0,x)\", \"field(\\\\\"anchor0\\\\\",e0,\\\\\"IMDB_Rating\\\\\")\", \"soft(encoding,\\\\\"view\\\\\",e0)\", \"soft(encoding,\\\\\"anchor0\\\\\",e0)\", \"soft(encoding_field,\\\\\"anchor0\\\\\",e0)\", \"soft(type_q,\\\\\"anchor0\\\\\",e0)\", \"soft(continuous_x,\\\\\"anchor0\\\\\",e0)\", \"type(\\\\\"anchor0\\\\\",e0,quantitative)\", \"compare(edit_point_tick,\\\\\"anchor0\\\\\",\\\\\"view\\\\\",tick,point)\", \"soft(c_d_tick,\\\\\"anchor0\\\\\",_placeholder)\", \"soft_weight(c_d_tick,0)\", \"compare_weight(edit_point_tick,1)\", \"soft_weight(encoding,0)\", \"soft_weight(encoding_field,6)\", \"soft_weight(type_q,0)\", \"soft_weight(continuous_x,0)\", \"channel(\\\\\"view\\\\\",e0,x)\", \"field(\\\\\"view\\\\\",e0,\\\\\"IMDB_Rating\\\\\")\", \"zero(\\\\\"view\\\\\",e0)\", \"bin(\\\\\"view\\\\\",e0,10)\", \"compare(edit_bin,\\\\\"anchor0\\\\\",\\\\\"view\\\\\",e0,e0)\", \"compare_weight(edit_bin,62)\", \"type(\\\\\"view\\\\\",e0,quantitative)\", \"soft(only_discrete,\\\\\"view\\\\\",_placeholder)\", \"soft(bin,\\\\\"view\\\\\",e0)\", \"soft(encoding_field,\\\\\"view\\\\\",e0)\", \"soft(zero_bin,\\\\\"view\\\\\",e0)\", \"soft(type_q,\\\\\"view\\\\\",e0)\", \"soft(ordered_x,\\\\\"view\\\\\",e0)\", \"soft_weight(only_discrete,30)\", \"soft_weight(bin,2)\", \"soft_weight(zero_bin,1)\", \"soft_weight(ordered_x,1)\"\\n          ]\\n        }\\n      ]\\n    },\\n    {\\n      \"Witnesses\": [\\n        {\\n          \"Value\": [\\n            \"base(\\\\\"anchor0\\\\\")\", \"visualization(\\\\\"view\\\\\")\", \"visualization(\\\\\"anchor0\\\\\")\", \"encoding(\\\\\"view\\\\\",e0)\", \"encoding(\\\\\"anchor0\\\\\",e0)\", \"mark(\\\\\"view\\\\\",point)\", \"mark(\\\\\"anchor0\\\\\",tick)\", \"zero(\\\\\"anchor0\\\\\",e0)\", \"channel(\\\\\"anchor0\\\\\",e0,x)\", \"field(\\\\\"anchor0\\\\\",e0,\\\\\"IMDB_Rating\\\\\")\", \"soft(encoding,\\\\\"view\\\\\",e0)\", \"soft(encoding,\\\\\"anchor0\\\\\",e0)\", \"soft(encoding_field,\\\\\"anchor0\\\\\",e0)\", \"soft(type_q,\\\\\"anchor0\\\\\",e0)\", \"soft(continuous_x,\\\\\"anchor0\\\\\",e0)\", \"type(\\\\\"anchor0\\\\\",e0,quantitative)\", \"compare(edit_point_tick,\\\\\"anchor0\\\\\",\\\\\"view\\\\\",tick,point)\", \"soft(c_d_tick,\\\\\"anchor0\\\\\",_placeholder)\", \"soft_weight(c_d_tick,0)\", \"compare_weight(edit_point_tick,1)\", \"soft_weight(encoding,0)\", \"soft_weight(encoding_field,6)\", \"soft_weight(type_q,0)\", \"soft_weight(continuous_x,0)\", \"channel(\\\\\"view\\\\\",e0,x)\", \"field(\\\\\"view\\\\\",e0,\\\\\"IMDB_Rating\\\\\")\", \"zero(\\\\\"view\\\\\",e0)\", \"aggregate(\\\\\"view\\\\\",e0,mean)\", \"compare(edit_aggregate,\\\\\"anchor0\\\\\",\\\\\"view\\\\\",e0,e0)\", \"compare_weight(edit_aggregate,63)\", \"type(\\\\\"view\\\\\",e0,quantitative)\", \"soft(agg_dim,\\\\\"view\\\\\",_placeholder)\", \"soft(c_d_no_overlap_point,\\\\\"view\\\\\",_placeholder)\", \"soft(aggregate,\\\\\"view\\\\\",e0)\", \"soft(encoding_field,\\\\\"view\\\\\",e0)\", \"soft(type_q,\\\\\"view\\\\\",e0)\", \"soft(continuous_x,\\\\\"view\\\\\",e0)\", \"soft(aggregate_mean,\\\\\"view\\\\\",e0)\", \"soft_weight(agg_dim,2)\", \"soft_weight(c_d_no_overlap_point,20)\", \"soft_weight(aggregate,4)\", \"soft_weight(aggregate_mean,1)\"\\n          ]\\n        }\\n      ]\\n    },\\n    {\\n      \"Witnesses\": [\\n        {\\n          \"Value\": [\\n            \"base(\\\\\"anchor0\\\\\")\", \"visualization(\\\\\"view\\\\\")\", \"visualization(\\\\\"anchor0\\\\\")\", \"encoding(\\\\\"view\\\\\",e0)\", \"encoding(\\\\\"anchor0\\\\\",e0)\", \"mark(\\\\\"view\\\\\",point)\", \"mark(\\\\\"anchor0\\\\\",tick)\", \"zero(\\\\\"anchor0\\\\\",e0)\", \"channel(\\\\\"anchor0\\\\\",e0,x)\", \"field(\\\\\"anchor0\\\\\",e0,\\\\\"IMDB_Rating\\\\\")\", \"soft(encoding,\\\\\"view\\\\\",e0)\", \"soft(encoding,\\\\\"anchor0\\\\\",e0)\", \"soft(encoding_field,\\\\\"anchor0\\\\\",e0)\", \"soft(type_q,\\\\\"anchor0\\\\\",e0)\", \"soft(continuous_x,\\\\\"anchor0\\\\\",e0)\", \"type(\\\\\"anchor0\\\\\",e0,quantitative)\", \"compare(edit_point_tick,\\\\\"anchor0\\\\\",\\\\\"view\\\\\",tick,point)\", \"soft(c_d_tick,\\\\\"anchor0\\\\\",_placeholder)\", \"soft_weight(c_d_tick,0)\", \"compare_weight(edit_point_tick,1)\", \"soft_weight(encoding,0)\", \"soft_weight(encoding_field,6)\", \"soft_weight(type_q,0)\", \"soft_weight(continuous_x,0)\", \"channel(\\\\\"view\\\\\",e0,x)\", \"field(\\\\\"view\\\\\",e0,\\\\\"IMDB_Rating\\\\\")\", \"compare(edit_scale,\\\\\"anchor0\\\\\",\\\\\"view\\\\\",e0,e0)\", \"bin(\\\\\"view\\\\\",e0,10)\", \"compare(edit_bin,\\\\\"anchor0\\\\\",\\\\\"view\\\\\",e0,e0)\", \"compare_weight(edit_scale,60)\", \"compare_weight(edit_bin,62)\", \"type(\\\\\"view\\\\\",e0,quantitative)\", \"soft(only_discrete,\\\\\"view\\\\\",_placeholder)\", \"soft(bin,\\\\\"view\\\\\",e0)\", \"soft(encoding_field,\\\\\"view\\\\\",e0)\", \"soft(type_q,\\\\\"view\\\\\",e0)\", \"soft(ordered_x,\\\\\"view\\\\\",e0)\", \"soft_weight(only_discrete,30)\", \"soft_weight(bin,2)\", \"soft_weight(ordered_x,1)\"\\n          ]\\n        }\\n      ]\\n    },\\n    {\\n      \"Witnesses\": [\\n        {\\n          \"Value\": [\\n            \"base(\\\\\"anchor0\\\\\")\", \"visualization(\\\\\"view\\\\\")\", \"visualization(\\\\\"anchor0\\\\\")\", \"encoding(\\\\\"view\\\\\",e0)\", \"encoding(\\\\\"anchor0\\\\\",e0)\", \"mark(\\\\\"view\\\\\",point)\", \"mark(\\\\\"anchor0\\\\\",tick)\", \"zero(\\\\\"anchor0\\\\\",e0)\", \"channel(\\\\\"anchor0\\\\\",e0,x)\", \"field(\\\\\"anchor0\\\\\",e0,\\\\\"IMDB_Rating\\\\\")\", \"soft(encoding,\\\\\"view\\\\\",e0)\", \"soft(encoding,\\\\\"anchor0\\\\\",e0)\", \"soft(encoding_field,\\\\\"anchor0\\\\\",e0)\", \"soft(type_q,\\\\\"anchor0\\\\\",e0)\", \"soft(continuous_x,\\\\\"anchor0\\\\\",e0)\", \"type(\\\\\"anchor0\\\\\",e0,quantitative)\", \"compare(edit_point_tick,\\\\\"anchor0\\\\\",\\\\\"view\\\\\",tick,point)\", \"soft(c_d_tick,\\\\\"anchor0\\\\\",_placeholder)\", \"soft_weight(c_d_tick,0)\", \"compare_weight(edit_point_tick,1)\", \"soft_weight(encoding,0)\", \"soft_weight(encoding_field,6)\", \"soft_weight(type_q,0)\", \"soft_weight(continuous_x,0)\", \"channel(\\\\\"view\\\\\",e0,x)\", \"field(\\\\\"view\\\\\",e0,\\\\\"IMDB_Rating\\\\\")\", \"compare(edit_scale,\\\\\"anchor0\\\\\",\\\\\"view\\\\\",e0,e0)\", \"aggregate(\\\\\"view\\\\\",e0,mean)\", \"compare(edit_aggregate,\\\\\"anchor0\\\\\",\\\\\"view\\\\\",e0,e0)\", \"compare_weight(edit_scale,60)\", \"compare_weight(edit_aggregate,63)\", \"type(\\\\\"view\\\\\",e0,quantitative)\", \"soft(agg_dim,\\\\\"view\\\\\",_placeholder)\", \"soft(zero_positional,\\\\\"view\\\\\",_placeholder)\", \"soft(c_d_no_overlap_point,\\\\\"view\\\\\",_placeholder)\", \"soft(aggregate,\\\\\"view\\\\\",e0)\", \"soft(encoding_field,\\\\\"view\\\\\",e0)\", \"soft(zero,\\\\\"view\\\\\",e0)\", \"soft(type_q,\\\\\"view\\\\\",e0)\", \"soft(continuous_x,\\\\\"view\\\\\",e0)\", \"soft(aggregate_mean,\\\\\"view\\\\\",e0)\", \"soft_weight(agg_dim,2)\", \"soft_weight(zero_positional,1)\", \"soft_weight(c_d_no_overlap_point,20)\", \"soft_weight(aggregate,4)\", \"soft_weight(zero,1)\", \"soft_weight(aggregate_mean,1)\"\\n          ]\\n        }\\n      ]\\n    },\\n    {\\n      \"Witnesses\": [\\n        {\\n          \"Value\": [\\n            \"base(\\\\\"anchor0\\\\\")\", \"visualization(\\\\\"view\\\\\")\", \"visualization(\\\\\"anchor0\\\\\")\", \"encoding(\\\\\"view\\\\\",e0)\", \"encoding(\\\\\"anchor0\\\\\",e0)\", \"mark(\\\\\"view\\\\\",point)\", \"mark(\\\\\"anchor0\\\\\",tick)\", \"zero(\\\\\"anchor0\\\\\",e0)\", \"channel(\\\\\"anchor0\\\\\",e0,x)\", \"field(\\\\\"anchor0\\\\\",e0,\\\\\"IMDB_Rating\\\\\")\", \"soft(encoding,\\\\\"view\\\\\",e0)\", \"soft(encoding,\\\\\"anchor0\\\\\",e0)\", \"soft(encoding_field,\\\\\"anchor0\\\\\",e0)\", \"soft(type_q,\\\\\"anchor0\\\\\",e0)\", \"soft(continuous_x,\\\\\"anchor0\\\\\",e0)\", \"type(\\\\\"anchor0\\\\\",e0,quantitative)\", \"compare(edit_point_tick,\\\\\"anchor0\\\\\",\\\\\"view\\\\\",tick,point)\", \"soft(c_d_tick,\\\\\"anchor0\\\\\",_placeholder)\", \"soft_weight(c_d_tick,0)\", \"compare_weight(edit_point_tick,1)\", \"soft_weight(encoding,0)\", \"soft_weight(encoding_field,6)\", \"soft_weight(type_q,0)\", \"soft_weight(continuous_x,0)\", \"field(\\\\\"view\\\\\",e0,\\\\\"IMDB_Rating\\\\\")\", \"channel(\\\\\"view\\\\\",e0,y)\", \"compare(edit_move_x_y,\\\\\"anchor0\\\\\",\\\\\"view\\\\\",e0,e0)\", \"zero(\\\\\"view\\\\\",e0)\", \"compare_weight(edit_move_x_y,444)\", \"type(\\\\\"view\\\\\",e0,quantitative)\", \"soft(only_x,\\\\\"view\\\\\",_placeholder)\", \"soft(c_d_point,\\\\\"view\\\\\",_placeholder)\", \"soft(encoding_field,\\\\\"view\\\\\",e0)\", \"soft(type_q,\\\\\"view\\\\\",e0)\", \"soft(continuous_y,\\\\\"view\\\\\",e0)\", \"soft_weight(only_x,1)\", \"soft_weight(c_d_point,10)\", \"soft_weight(continuous_y,0)\"\\n          ]\\n        }\\n      ]\\n    },\\n    {\\n      \"Witnesses\": [\\n        {\\n          \"Value\": [\\n            \"base(\\\\\"anchor0\\\\\")\", \"visualization(\\\\\"view\\\\\")\", \"visualization(\\\\\"anchor0\\\\\")\", \"encoding(\\\\\"view\\\\\",e0)\", \"encoding(\\\\\"anchor0\\\\\",e0)\", \"mark(\\\\\"view\\\\\",point)\", \"mark(\\\\\"anchor0\\\\\",tick)\", \"zero(\\\\\"anchor0\\\\\",e0)\", \"channel(\\\\\"anchor0\\\\\",e0,x)\", \"field(\\\\\"anchor0\\\\\",e0,\\\\\"IMDB_Rating\\\\\")\", \"soft(encoding,\\\\\"view\\\\\",e0)\", \"soft(encoding,\\\\\"anchor0\\\\\",e0)\", \"soft(encoding_field,\\\\\"anchor0\\\\\",e0)\", \"soft(type_q,\\\\\"anchor0\\\\\",e0)\", \"soft(continuous_x,\\\\\"anchor0\\\\\",e0)\", \"type(\\\\\"anchor0\\\\\",e0,quantitative)\", \"compare(edit_point_tick,\\\\\"anchor0\\\\\",\\\\\"view\\\\\",tick,point)\", \"soft(c_d_tick,\\\\\"anchor0\\\\\",_placeholder)\", \"soft_weight(c_d_tick,0)\", \"compare_weight(edit_point_tick,1)\", \"soft_weight(encoding,0)\", \"soft_weight(encoding_field,6)\", \"soft_weight(type_q,0)\", \"soft_weight(continuous_x,0)\", \"encoding(\\\\\"view\\\\\",1)\", \"channel(\\\\\"view\\\\\",1,x)\", \"field(\\\\\"view\\\\\",e0,\\\\\"IMDB_Rating\\\\\")\", \"aggregate(\\\\\"view\\\\\",1,count)\", \"channel(\\\\\"view\\\\\",e0,size)\", \"compare(edit_move_x_size,\\\\\"anchor0\\\\\",\\\\\"view\\\\\",e0,e0)\", \"zero(\\\\\"view\\\\\",e0)\", \"zero(\\\\\"view\\\\\",1)\", \"compare_weight(edit_move_x_size,446)\", \"type(\\\\\"view\\\\\",e0,quantitative)\", \"type(\\\\\"view\\\\\",1,quantitative)\", \"soft(non_positional_pref,\\\\\"view\\\\\",_placeholder)\", \"soft(aggregate_group_by_raw,e0,_placeholder)\", \"soft(agg_dim,\\\\\"view\\\\\",_placeholder)\", \"soft(c_d_point,\\\\\"view\\\\\",_placeholder)\", \"soft(aggregate,\\\\\"view\\\\\",1)\", \"soft(encoding,\\\\\"view\\\\\",1)\", \"soft(encoding_field,\\\\\"view\\\\\",e0)\", \"soft(type_q,\\\\\"view\\\\\",e0)\", \"soft(type_q,\\\\\"view\\\\\",1)\", \"soft(continuous_x,\\\\\"view\\\\\",1)\", \"soft(continuous_size,\\\\\"view\\\\\",e0)\", \"soft(aggregate_count,\\\\\"view\\\\\",1)\", \"soft_weight(non_positional_pref,20)\", \"soft_weight(aggregate_group_by_raw,10)\", \"soft_weight(agg_dim,2)\", \"soft_weight(c_d_point,10)\", \"soft_weight(aggregate,4)\", \"soft_weight(continuous_size,1)\", \"soft_weight(aggregate_count,0)\"\\n          ]\\n        }\\n      ]\\n    },\\n    {\\n      \"Witnesses\": [\\n        {\\n          \"Value\": [\\n            \"base(\\\\\"anchor0\\\\\")\", \"visualization(\\\\\"view\\\\\")\", \"visualization(\\\\\"anchor0\\\\\")\", \"encoding(\\\\\"view\\\\\",e0)\", \"encoding(\\\\\"anchor0\\\\\",e0)\", \"mark(\\\\\"view\\\\\",point)\", \"mark(\\\\\"anchor0\\\\\",tick)\", \"zero(\\\\\"anchor0\\\\\",e0)\", \"channel(\\\\\"anchor0\\\\\",e0,x)\", \"field(\\\\\"anchor0\\\\\",e0,\\\\\"IMDB_Rating\\\\\")\", \"soft(encoding,\\\\\"view\\\\\",e0)\", \"soft(encoding,\\\\\"anchor0\\\\\",e0)\", \"soft(encoding_field,\\\\\"anchor0\\\\\",e0)\", \"soft(type_q,\\\\\"anchor0\\\\\",e0)\", \"soft(continuous_x,\\\\\"anchor0\\\\\",e0)\", \"type(\\\\\"anchor0\\\\\",e0,quantitative)\", \"compare(edit_point_tick,\\\\\"anchor0\\\\\",\\\\\"view\\\\\",tick,point)\", \"soft(c_d_tick,\\\\\"anchor0\\\\\",_placeholder)\", \"soft_weight(c_d_tick,0)\", \"compare_weight(edit_point_tick,1)\", \"soft_weight(encoding,0)\", \"soft_weight(encoding_field,6)\", \"soft_weight(type_q,0)\", \"soft_weight(continuous_x,0)\", \"encoding(\\\\\"view\\\\\",1)\", \"channel(\\\\\"view\\\\\",e0,x)\", \"field(\\\\\"view\\\\\",e0,\\\\\"IMDB_Rating\\\\\")\", \"aggregate(\\\\\"view\\\\\",1,count)\", \"channel(\\\\\"view\\\\\",1,size)\", \"compare(edit_add_size_count,\\\\\"anchor0\\\\\",\\\\\"view\\\\\",1,count)\", \"zero(\\\\\"view\\\\\",e0)\", \"zero(\\\\\"view\\\\\",1)\", \"compare_weight(edit_add_size_count,452)\", \"type(\\\\\"view\\\\\",e0,quantitative)\", \"type(\\\\\"view\\\\\",1,quantitative)\", \"soft(non_positional_pref,\\\\\"view\\\\\",_placeholder)\", \"soft(aggregate_group_by_raw,e0,_placeholder)\", \"soft(agg_dim,\\\\\"view\\\\\",_placeholder)\", \"soft(c_d_point,\\\\\"view\\\\\",_placeholder)\", \"soft(aggregate,\\\\\"view\\\\\",1)\", \"soft(encoding,\\\\\"view\\\\\",1)\", \"soft(encoding_field,\\\\\"view\\\\\",e0)\", \"soft(type_q,\\\\\"view\\\\\",e0)\", \"soft(type_q,\\\\\"view\\\\\",1)\", \"soft(continuous_x,\\\\\"view\\\\\",e0)\", \"soft(continuous_size,\\\\\"view\\\\\",1)\", \"soft(aggregate_count,\\\\\"view\\\\\",1)\", \"soft_weight(non_positional_pref,20)\", \"soft_weight(aggregate_group_by_raw,10)\", \"soft_weight(agg_dim,2)\", \"soft_weight(c_d_point,10)\", \"soft_weight(aggregate,4)\", \"soft_weight(continuous_size,1)\", \"soft_weight(aggregate_count,0)\"\\n          ]\\n        }\\n      ]\\n    },\\n    {\\n      \"Witnesses\": [\\n        {\\n          \"Value\": [\\n            \"base(\\\\\"anchor0\\\\\")\", \"visualization(\\\\\"view\\\\\")\", \"visualization(\\\\\"anchor0\\\\\")\", \"encoding(\\\\\"view\\\\\",e0)\", \"encoding(\\\\\"anchor0\\\\\",e0)\", \"mark(\\\\\"view\\\\\",point)\", \"mark(\\\\\"anchor0\\\\\",tick)\", \"zero(\\\\\"anchor0\\\\\",e0)\", \"channel(\\\\\"anchor0\\\\\",e0,x)\", \"field(\\\\\"anchor0\\\\\",e0,\\\\\"IMDB_Rating\\\\\")\", \"soft(encoding,\\\\\"view\\\\\",e0)\", \"soft(encoding,\\\\\"anchor0\\\\\",e0)\", \"soft(encoding_field,\\\\\"anchor0\\\\\",e0)\", \"soft(type_q,\\\\\"anchor0\\\\\",e0)\", \"soft(continuous_x,\\\\\"anchor0\\\\\",e0)\", \"type(\\\\\"anchor0\\\\\",e0,quantitative)\", \"compare(edit_point_tick,\\\\\"anchor0\\\\\",\\\\\"view\\\\\",tick,point)\", \"soft(c_d_tick,\\\\\"anchor0\\\\\",_placeholder)\", \"soft_weight(c_d_tick,0)\", \"compare_weight(edit_point_tick,1)\", \"soft_weight(encoding,0)\", \"soft_weight(encoding_field,6)\", \"soft_weight(type_q,0)\", \"soft_weight(continuous_x,0)\", \"encoding(\\\\\"view\\\\\",1)\", \"channel(\\\\\"view\\\\\",e0,x)\", \"field(\\\\\"view\\\\\",e0,\\\\\"IMDB_Rating\\\\\")\", \"aggregate(\\\\\"view\\\\\",1,count)\", \"channel(\\\\\"view\\\\\",1,color)\", \"compare(edit_add_color_count,\\\\\"anchor0\\\\\",\\\\\"view\\\\\",1,count)\", \"zero(\\\\\"view\\\\\",e0)\", \"zero(\\\\\"view\\\\\",1)\", \"compare_weight(edit_add_color_count,454)\", \"type(\\\\\"view\\\\\",e0,quantitative)\", \"type(\\\\\"view\\\\\",1,quantitative)\", \"soft(non_positional_pref,\\\\\"view\\\\\",_placeholder)\", \"soft(aggregate_group_by_raw,e0,_placeholder)\", \"soft(agg_dim,\\\\\"view\\\\\",_placeholder)\", \"soft(c_d_point,\\\\\"view\\\\\",_placeholder)\", \"soft(aggregate,\\\\\"view\\\\\",1)\", \"soft(encoding,\\\\\"view\\\\\",1)\", \"soft(encoding_field,\\\\\"view\\\\\",e0)\", \"soft(type_q,\\\\\"view\\\\\",e0)\", \"soft(type_q,\\\\\"view\\\\\",1)\", \"soft(continuous_x,\\\\\"view\\\\\",e0)\", \"soft(continuous_color,\\\\\"view\\\\\",1)\", \"soft(aggregate_count,\\\\\"view\\\\\",1)\", \"soft_weight(non_positional_pref,20)\", \"soft_weight(aggregate_group_by_raw,10)\", \"soft_weight(agg_dim,2)\", \"soft_weight(c_d_point,10)\", \"soft_weight(aggregate,4)\", \"soft_weight(continuous_color,10)\", \"soft_weight(aggregate_count,0)\"\\n          ]\\n        }\\n      ]\\n    },\\n    {\\n      \"Witnesses\": [\\n        {\\n          \"Value\": [\\n            \"base(\\\\\"anchor0\\\\\")\", \"visualization(\\\\\"view\\\\\")\", \"visualization(\\\\\"anchor0\\\\\")\", \"encoding(\\\\\"view\\\\\",e0)\", \"encoding(\\\\\"anchor0\\\\\",e0)\", \"mark(\\\\\"view\\\\\",point)\", \"mark(\\\\\"anchor0\\\\\",tick)\", \"zero(\\\\\"anchor0\\\\\",e0)\", \"channel(\\\\\"anchor0\\\\\",e0,x)\", \"field(\\\\\"anchor0\\\\\",e0,\\\\\"IMDB_Rating\\\\\")\", \"soft(encoding,\\\\\"view\\\\\",e0)\", \"soft(encoding,\\\\\"anchor0\\\\\",e0)\", \"soft(encoding_field,\\\\\"anchor0\\\\\",e0)\", \"soft(type_q,\\\\\"anchor0\\\\\",e0)\", \"soft(continuous_x,\\\\\"anchor0\\\\\",e0)\", \"type(\\\\\"anchor0\\\\\",e0,quantitative)\", \"compare(edit_point_tick,\\\\\"anchor0\\\\\",\\\\\"view\\\\\",tick,point)\", \"soft(c_d_tick,\\\\\"anchor0\\\\\",_placeholder)\", \"soft_weight(c_d_tick,0)\", \"compare_weight(edit_point_tick,1)\", \"soft_weight(encoding,0)\", \"soft_weight(encoding_field,6)\", \"soft_weight(type_q,0)\", \"soft_weight(continuous_x,0)\", \"encoding(\\\\\"view\\\\\",1)\", \"channel(\\\\\"view\\\\\",e0,x)\", \"field(\\\\\"view\\\\\",e0,\\\\\"IMDB_Rating\\\\\")\", \"channel(\\\\\"view\\\\\",1,y)\", \"compare(edit_add_y_count,\\\\\"anchor0\\\\\",\\\\\"view\\\\\",1,count)\", \"aggregate(\\\\\"view\\\\\",1,count)\", \"zero(\\\\\"view\\\\\",e0)\", \"zero(\\\\\"view\\\\\",1)\", \"compare_weight(edit_add_y_count,458)\", \"type(\\\\\"view\\\\\",e0,quantitative)\", \"type(\\\\\"view\\\\\",1,quantitative)\", \"soft(aggregate_group_by_raw,e0,_placeholder)\", \"soft(agg_dim,\\\\\"view\\\\\",_placeholder)\", \"soft(c_c_point,\\\\\"view\\\\\",_placeholder)\", \"soft(aggregate,\\\\\"view\\\\\",1)\", \"soft(encoding,\\\\\"view\\\\\",1)\", \"soft(encoding_field,\\\\\"view\\\\\",e0)\", \"soft(type_q,\\\\\"view\\\\\",e0)\", \"soft(type_q,\\\\\"view\\\\\",1)\", \"soft(continuous_x,\\\\\"view\\\\\",e0)\", \"soft(continuous_y,\\\\\"view\\\\\",1)\", \"soft(aggregate_count,\\\\\"view\\\\\",1)\", \"soft_weight(aggregate_group_by_raw,10)\", \"soft_weight(agg_dim,2)\", \"soft_weight(c_c_point,0)\", \"soft_weight(aggregate,4)\", \"soft_weight(continuous_y,0)\", \"soft_weight(aggregate_count,0)\"\\n          ]\\n        }\\n      ]\\n    },\\n    {\\n      \"Witnesses\": [\\n        {\\n          \"Value\": [\\n            \"base(\\\\\"anchor0\\\\\")\", \"visualization(\\\\\"view\\\\\")\", \"visualization(\\\\\"anchor0\\\\\")\", \"encoding(\\\\\"view\\\\\",e0)\", \"encoding(\\\\\"anchor0\\\\\",e0)\", \"mark(\\\\\"view\\\\\",point)\", \"mark(\\\\\"anchor0\\\\\",tick)\", \"zero(\\\\\"anchor0\\\\\",e0)\", \"channel(\\\\\"anchor0\\\\\",e0,x)\", \"field(\\\\\"anchor0\\\\\",e0,\\\\\"IMDB_Rating\\\\\")\", \"soft(encoding,\\\\\"view\\\\\",e0)\", \"soft(encoding,\\\\\"anchor0\\\\\",e0)\", \"soft(encoding_field,\\\\\"anchor0\\\\\",e0)\", \"soft(type_q,\\\\\"anchor0\\\\\",e0)\", \"soft(continuous_x,\\\\\"anchor0\\\\\",e0)\", \"type(\\\\\"anchor0\\\\\",e0,quantitative)\", \"compare(edit_point_tick,\\\\\"anchor0\\\\\",\\\\\"view\\\\\",tick,point)\", \"soft(c_d_tick,\\\\\"anchor0\\\\\",_placeholder)\", \"soft_weight(c_d_tick,0)\", \"compare_weight(edit_point_tick,1)\", \"soft_weight(encoding,0)\", \"soft_weight(encoding_field,6)\", \"soft_weight(type_q,0)\", \"soft_weight(continuous_x,0)\", \"encoding(\\\\\"view\\\\\",1)\", \"channel(\\\\\"view\\\\\",1,x)\", \"field(\\\\\"view\\\\\",e0,\\\\\"IMDB_Rating\\\\\")\", \"aggregate(\\\\\"view\\\\\",1,count)\", \"channel(\\\\\"view\\\\\",e0,column)\", \"compare(edit_move_x_column,\\\\\"anchor0\\\\\",\\\\\"view\\\\\",e0,e0)\", \"compare(edit_scale,\\\\\"anchor0\\\\\",\\\\\"view\\\\\",e0,e0)\", \"zero(\\\\\"view\\\\\",1)\", \"compare_weight(edit_move_x_column,443)\", \"compare_weight(edit_scale,60)\", \"type(\\\\\"view\\\\\",e0,ordinal)\", \"type(\\\\\"view\\\\\",1,quantitative)\", \"soft(quantitative_numbers,\\\\\"view\\\\\",_placeholder)\", \"soft(x_column,\\\\\"view\\\\\",_placeholder)\", \"soft(c_d_no_overlap_point,\\\\\"view\\\\\",_placeholder)\", \"soft(aggregate,\\\\\"view\\\\\",1)\", \"soft(encoding,\\\\\"view\\\\\",1)\", \"soft(encoding_field,\\\\\"view\\\\\",e0)\", \"soft(number_high_cardinality_ordinal,\\\\\"view\\\\\",e0)\", \"soft(high_cardinality_ordinal,\\\\\"view\\\\\",e0)\", \"soft(type_q,\\\\\"view\\\\\",1)\", \"soft(type_o,\\\\\"view\\\\\",e0)\", \"soft(continuous_x,\\\\\"view\\\\\",1)\", \"soft(ordered_column,\\\\\"view\\\\\",e0)\", \"soft(aggregate_count,\\\\\"view\\\\\",1)\", \"soft_weight(quantitative_numbers,2)\", \"soft_weight(x_column,1)\", \"soft_weight(c_d_no_overlap_point,20)\", \"soft_weight(aggregate,4)\", \"soft_weight(high_cardinality_ordinal,10)\", \"soft_weight(type_o,1)\", \"soft_weight(ordered_column,10)\", \"soft_weight(aggregate_count,0)\"\\n          ]\\n        }\\n      ]\\n    },\\n    {\\n      \"Witnesses\": [\\n        {\\n          \"Value\": [\\n            \"base(\\\\\"anchor0\\\\\")\", \"visualization(\\\\\"view\\\\\")\", \"visualization(\\\\\"anchor0\\\\\")\", \"encoding(\\\\\"view\\\\\",e0)\", \"encoding(\\\\\"anchor0\\\\\",e0)\", \"mark(\\\\\"view\\\\\",point)\", \"mark(\\\\\"anchor0\\\\\",tick)\", \"zero(\\\\\"anchor0\\\\\",e0)\", \"channel(\\\\\"anchor0\\\\\",e0,x)\", \"field(\\\\\"anchor0\\\\\",e0,\\\\\"IMDB_Rating\\\\\")\", \"soft(encoding,\\\\\"view\\\\\",e0)\", \"soft(encoding,\\\\\"anchor0\\\\\",e0)\", \"soft(encoding_field,\\\\\"anchor0\\\\\",e0)\", \"soft(type_q,\\\\\"anchor0\\\\\",e0)\", \"soft(continuous_x,\\\\\"anchor0\\\\\",e0)\", \"type(\\\\\"anchor0\\\\\",e0,quantitative)\", \"compare(edit_point_tick,\\\\\"anchor0\\\\\",\\\\\"view\\\\\",tick,point)\", \"soft(c_d_tick,\\\\\"anchor0\\\\\",_placeholder)\", \"soft_weight(c_d_tick,0)\", \"compare_weight(edit_point_tick,1)\", \"soft_weight(encoding,0)\", \"soft_weight(encoding_field,6)\", \"soft_weight(type_q,0)\", \"soft_weight(continuous_x,0)\", \"field(\\\\\"view\\\\\",e0,\\\\\"IMDB_Rating\\\\\")\", \"channel(\\\\\"view\\\\\",e0,y)\", \"compare(edit_move_x_y,\\\\\"anchor0\\\\\",\\\\\"view\\\\\",e0,e0)\", \"compare(edit_scale,\\\\\"anchor0\\\\\",\\\\\"view\\\\\",e0,e0)\", \"compare_weight(edit_move_x_y,444)\", \"compare_weight(edit_scale,60)\", \"type(\\\\\"view\\\\\",e0,quantitative)\", \"soft(zero_positional,\\\\\"view\\\\\",_placeholder)\", \"soft(only_x,\\\\\"view\\\\\",_placeholder)\", \"soft(c_d_point,\\\\\"view\\\\\",_placeholder)\", \"soft(encoding_field,\\\\\"view\\\\\",e0)\", \"soft(zero,\\\\\"view\\\\\",e0)\", \"soft(type_q,\\\\\"view\\\\\",e0)\", \"soft(continuous_y,\\\\\"view\\\\\",e0)\", \"soft_weight(zero_positional,1)\", \"soft_weight(only_x,1)\", \"soft_weight(c_d_point,10)\", \"soft_weight(zero,1)\", \"soft_weight(continuous_y,0)\"\\n          ]\\n        }\\n      ]\\n    },\\n    {\\n      \"Witnesses\": [\\n        {\\n          \"Value\": [\\n            \"base(\\\\\"anchor0\\\\\")\", \"visualization(\\\\\"view\\\\\")\", \"visualization(\\\\\"anchor0\\\\\")\", \"encoding(\\\\\"view\\\\\",e0)\", \"encoding(\\\\\"anchor0\\\\\",e0)\", \"mark(\\\\\"view\\\\\",point)\", \"mark(\\\\\"anchor0\\\\\",tick)\", \"zero(\\\\\"anchor0\\\\\",e0)\", \"channel(\\\\\"anchor0\\\\\",e0,x)\", \"field(\\\\\"anchor0\\\\\",e0,\\\\\"IMDB_Rating\\\\\")\", \"soft(encoding,\\\\\"view\\\\\",e0)\", \"soft(encoding,\\\\\"anchor0\\\\\",e0)\", \"soft(encoding_field,\\\\\"anchor0\\\\\",e0)\", \"soft(type_q,\\\\\"anchor0\\\\\",e0)\", \"soft(continuous_x,\\\\\"anchor0\\\\\",e0)\", \"type(\\\\\"anchor0\\\\\",e0,quantitative)\", \"compare(edit_point_tick,\\\\\"anchor0\\\\\",\\\\\"view\\\\\",tick,point)\", \"soft(c_d_tick,\\\\\"anchor0\\\\\",_placeholder)\", \"soft_weight(c_d_tick,0)\", \"compare_weight(edit_point_tick,1)\", \"soft_weight(encoding,0)\", \"soft_weight(encoding_field,6)\", \"soft_weight(type_q,0)\", \"soft_weight(continuous_x,0)\", \"encoding(\\\\\"view\\\\\",1)\", \"channel(\\\\\"view\\\\\",1,x)\", \"field(\\\\\"view\\\\\",e0,\\\\\"IMDB_Rating\\\\\")\", \"aggregate(\\\\\"view\\\\\",1,count)\", \"channel(\\\\\"view\\\\\",e0,column)\", \"compare(edit_move_x_column,\\\\\"anchor0\\\\\",\\\\\"view\\\\\",e0,e0)\", \"zero(\\\\\"view\\\\\",e0)\", \"zero(\\\\\"view\\\\\",1)\", \"bin(\\\\\"view\\\\\",e0,10)\", \"compare(edit_bin,\\\\\"anchor0\\\\\",\\\\\"view\\\\\",e0,e0)\", \"compare_weight(edit_move_x_column,443)\", \"compare_weight(edit_bin,62)\", \"type(\\\\\"view\\\\\",e0,quantitative)\", \"type(\\\\\"view\\\\\",1,quantitative)\", \"soft(orientation_binned,\\\\\"view\\\\\",_placeholder)\", \"soft(x_column,\\\\\"view\\\\\",_placeholder)\", \"soft(c_d_no_overlap_point,\\\\\"view\\\\\",_placeholder)\", \"soft(aggregate,\\\\\"view\\\\\",1)\", \"soft(bin,\\\\\"view\\\\\",e0)\", \"soft(encoding,\\\\\"view\\\\\",1)\", \"soft(encoding_field,\\\\\"view\\\\\",e0)\", \"soft(zero_bin,\\\\\"view\\\\\",e0)\", \"soft(type_q,\\\\\"view\\\\\",e0)\", \"soft(type_q,\\\\\"view\\\\\",1)\", \"soft(continuous_x,\\\\\"view\\\\\",1)\", \"soft(ordered_column,\\\\\"view\\\\\",e0)\", \"soft(aggregate_count,\\\\\"view\\\\\",1)\", \"soft_weight(orientation_binned,2)\", \"soft_weight(x_column,1)\", \"soft_weight(c_d_no_overlap_point,20)\", \"soft_weight(aggregate,4)\", \"soft_weight(bin,2)\", \"soft_weight(zero_bin,1)\", \"soft_weight(ordered_column,10)\", \"soft_weight(aggregate_count,0)\"\\n          ]\\n        }\\n      ]\\n    },\\n    {\\n      \"Witnesses\": [\\n        {\\n          \"Value\": [\\n            \"base(\\\\\"anchor0\\\\\")\", \"visualization(\\\\\"view\\\\\")\", \"visualization(\\\\\"anchor0\\\\\")\", \"encoding(\\\\\"view\\\\\",e0)\", \"encoding(\\\\\"anchor0\\\\\",e0)\", \"mark(\\\\\"view\\\\\",point)\", \"mark(\\\\\"anchor0\\\\\",tick)\", \"zero(\\\\\"anchor0\\\\\",e0)\", \"channel(\\\\\"anchor0\\\\\",e0,x)\", \"field(\\\\\"anchor0\\\\\",e0,\\\\\"IMDB_Rating\\\\\")\", \"soft(encoding,\\\\\"view\\\\\",e0)\", \"soft(encoding,\\\\\"anchor0\\\\\",e0)\", \"soft(encoding_field,\\\\\"anchor0\\\\\",e0)\", \"soft(type_q,\\\\\"anchor0\\\\\",e0)\", \"soft(continuous_x,\\\\\"anchor0\\\\\",e0)\", \"type(\\\\\"anchor0\\\\\",e0,quantitative)\", \"compare(edit_point_tick,\\\\\"anchor0\\\\\",\\\\\"view\\\\\",tick,point)\", \"soft(c_d_tick,\\\\\"anchor0\\\\\",_placeholder)\", \"soft_weight(c_d_tick,0)\", \"compare_weight(edit_point_tick,1)\", \"soft_weight(encoding,0)\", \"soft_weight(encoding_field,6)\", \"soft_weight(type_q,0)\", \"soft_weight(continuous_x,0)\", \"encoding(\\\\\"view\\\\\",1)\", \"channel(\\\\\"view\\\\\",1,x)\", \"field(\\\\\"view\\\\\",e0,\\\\\"IMDB_Rating\\\\\")\", \"channel(\\\\\"view\\\\\",e0,y)\", \"aggregate(\\\\\"view\\\\\",1,count)\", \"compare(edit_move_x_y,\\\\\"anchor0\\\\\",\\\\\"view\\\\\",e0,e0)\", \"zero(\\\\\"view\\\\\",e0)\", \"zero(\\\\\"view\\\\\",1)\", \"bin(\\\\\"view\\\\\",e0,10)\", \"compare(edit_bin,\\\\\"anchor0\\\\\",\\\\\"view\\\\\",e0,e0)\", \"compare_weight(edit_move_x_y,444)\", \"compare_weight(edit_bin,62)\", \"type(\\\\\"view\\\\\",e0,quantitative)\", \"type(\\\\\"view\\\\\",1,quantitative)\", \"soft(orientation_binned,\\\\\"view\\\\\",_placeholder)\", \"soft(c_d_no_overlap_point,\\\\\"view\\\\\",_placeholder)\", \"soft(aggregate,\\\\\"view\\\\\",1)\", \"soft(bin,\\\\\"view\\\\\",e0)\", \"soft(encoding,\\\\\"view\\\\\",1)\", \"soft(encoding_field,\\\\\"view\\\\\",e0)\", \"soft(zero_bin,\\\\\"view\\\\\",e0)\", \"soft(type_q,\\\\\"view\\\\\",e0)\", \"soft(type_q,\\\\\"view\\\\\",1)\", \"soft(continuous_x,\\\\\"view\\\\\",1)\", \"soft(ordered_y,\\\\\"view\\\\\",e0)\", \"soft(aggregate_count,\\\\\"view\\\\\",1)\", \"soft_weight(orientation_binned,2)\", \"soft_weight(c_d_no_overlap_point,20)\", \"soft_weight(aggregate,4)\", \"soft_weight(bin,2)\", \"soft_weight(zero_bin,1)\", \"soft_weight(ordered_y,0)\", \"soft_weight(aggregate_count,0)\"\\n          ]\\n        }\\n      ]\\n    },\\n    {\\n      \"Witnesses\": [\\n        {\\n          \"Value\": [\\n            \"base(\\\\\"anchor0\\\\\")\", \"visualization(\\\\\"view\\\\\")\", \"visualization(\\\\\"anchor0\\\\\")\", \"encoding(\\\\\"view\\\\\",e0)\", \"encoding(\\\\\"anchor0\\\\\",e0)\", \"mark(\\\\\"view\\\\\",point)\", \"mark(\\\\\"anchor0\\\\\",tick)\", \"zero(\\\\\"anchor0\\\\\",e0)\", \"channel(\\\\\"anchor0\\\\\",e0,x)\", \"field(\\\\\"anchor0\\\\\",e0,\\\\\"IMDB_Rating\\\\\")\", \"soft(encoding,\\\\\"view\\\\\",e0)\", \"soft(encoding,\\\\\"anchor0\\\\\",e0)\", \"soft(encoding_field,\\\\\"anchor0\\\\\",e0)\", \"soft(type_q,\\\\\"anchor0\\\\\",e0)\", \"soft(continuous_x,\\\\\"anchor0\\\\\",e0)\", \"type(\\\\\"anchor0\\\\\",e0,quantitative)\", \"compare(edit_point_tick,\\\\\"anchor0\\\\\",\\\\\"view\\\\\",tick,point)\", \"soft(c_d_tick,\\\\\"anchor0\\\\\",_placeholder)\", \"soft_weight(c_d_tick,0)\", \"compare_weight(edit_point_tick,1)\", \"soft_weight(encoding,0)\", \"soft_weight(encoding_field,6)\", \"soft_weight(type_q,0)\", \"soft_weight(continuous_x,0)\", \"encoding(\\\\\"view\\\\\",1)\", \"channel(\\\\\"view\\\\\",1,x)\", \"field(\\\\\"view\\\\\",e0,\\\\\"IMDB_Rating\\\\\")\", \"channel(\\\\\"view\\\\\",e0,y)\", \"aggregate(\\\\\"view\\\\\",1,count)\", \"compare(edit_move_x_y,\\\\\"anchor0\\\\\",\\\\\"view\\\\\",e0,e0)\", \"zero(\\\\\"view\\\\\",e0)\", \"zero(\\\\\"view\\\\\",1)\", \"aggregate(\\\\\"view\\\\\",e0,mean)\", \"compare(edit_aggregate,\\\\\"anchor0\\\\\",\\\\\"view\\\\\",e0,e0)\", \"compare_weight(edit_move_x_y,444)\", \"compare_weight(edit_aggregate,63)\", \"type(\\\\\"view\\\\\",e0,quantitative)\", \"type(\\\\\"view\\\\\",1,quantitative)\", \"soft(agg_dim,\\\\\"view\\\\\",_placeholder)\", \"soft(c_c_point,\\\\\"view\\\\\",_placeholder)\", \"soft(aggregate,\\\\\"view\\\\\",e0)\", \"soft(aggregate,\\\\\"view\\\\\",1)\", \"soft(encoding,\\\\\"view\\\\\",1)\", \"soft(encoding_field,\\\\\"view\\\\\",e0)\", \"soft(type_q,\\\\\"view\\\\\",e0)\", \"soft(type_q,\\\\\"view\\\\\",1)\", \"soft(continuous_x,\\\\\"view\\\\\",1)\", \"soft(continuous_y,\\\\\"view\\\\\",e0)\", \"soft(aggregate_count,\\\\\"view\\\\\",1)\", \"soft(aggregate_mean,\\\\\"view\\\\\",e0)\", \"soft_weight(agg_dim,2)\", \"soft_weight(c_c_point,0)\", \"soft_weight(aggregate,4)\", \"soft_weight(continuous_y,0)\", \"soft_weight(aggregate_count,0)\", \"soft_weight(aggregate_mean,1)\"\\n          ]\\n        }\\n      ]\\n    },\\n    {\\n      \"Witnesses\": [\\n        {\\n          \"Value\": [\\n            \"base(\\\\\"anchor0\\\\\")\", \"visualization(\\\\\"view\\\\\")\", \"visualization(\\\\\"anchor0\\\\\")\", \"encoding(\\\\\"view\\\\\",e0)\", \"encoding(\\\\\"anchor0\\\\\",e0)\", \"mark(\\\\\"view\\\\\",point)\", \"mark(\\\\\"anchor0\\\\\",tick)\", \"zero(\\\\\"anchor0\\\\\",e0)\", \"channel(\\\\\"anchor0\\\\\",e0,x)\", \"field(\\\\\"anchor0\\\\\",e0,\\\\\"IMDB_Rating\\\\\")\", \"soft(encoding,\\\\\"view\\\\\",e0)\", \"soft(encoding,\\\\\"anchor0\\\\\",e0)\", \"soft(encoding_field,\\\\\"anchor0\\\\\",e0)\", \"soft(type_q,\\\\\"anchor0\\\\\",e0)\", \"soft(continuous_x,\\\\\"anchor0\\\\\",e0)\", \"type(\\\\\"anchor0\\\\\",e0,quantitative)\", \"compare(edit_point_tick,\\\\\"anchor0\\\\\",\\\\\"view\\\\\",tick,point)\", \"soft(c_d_tick,\\\\\"anchor0\\\\\",_placeholder)\", \"soft_weight(c_d_tick,0)\", \"compare_weight(edit_point_tick,1)\", \"soft_weight(encoding,0)\", \"soft_weight(encoding_field,6)\", \"soft_weight(type_q,0)\", \"soft_weight(continuous_x,0)\", \"encoding(\\\\\"view\\\\\",1)\", \"channel(\\\\\"view\\\\\",1,x)\", \"field(\\\\\"view\\\\\",e0,\\\\\"IMDB_Rating\\\\\")\", \"aggregate(\\\\\"view\\\\\",1,count)\", \"channel(\\\\\"view\\\\\",e0,size)\", \"compare(edit_move_x_size,\\\\\"anchor0\\\\\",\\\\\"view\\\\\",e0,e0)\", \"zero(\\\\\"view\\\\\",e0)\", \"zero(\\\\\"view\\\\\",1)\", \"bin(\\\\\"view\\\\\",e0,10)\", \"compare(edit_bin,\\\\\"anchor0\\\\\",\\\\\"view\\\\\",e0,e0)\", \"compare_weight(edit_move_x_size,446)\", \"compare_weight(edit_bin,62)\", \"type(\\\\\"view\\\\\",e0,quantitative)\", \"type(\\\\\"view\\\\\",1,quantitative)\", \"soft(non_positional_pref,\\\\\"view\\\\\",_placeholder)\", \"soft(orientation_binned,\\\\\"view\\\\\",_placeholder)\", \"soft(c_d_point,\\\\\"view\\\\\",_placeholder)\", \"soft(aggregate,\\\\\"view\\\\\",1)\", \"soft(bin,\\\\\"view\\\\\",e0)\", \"soft(encoding,\\\\\"view\\\\\",1)\", \"soft(encoding_field,\\\\\"view\\\\\",e0)\", \"soft(zero_bin,\\\\\"view\\\\\",e0)\", \"soft(type_q,\\\\\"view\\\\\",e0)\", \"soft(type_q,\\\\\"view\\\\\",1)\", \"soft(continuous_x,\\\\\"view\\\\\",1)\", \"soft(ordered_size,\\\\\"view\\\\\",e0)\", \"soft(aggregate_count,\\\\\"view\\\\\",1)\", \"soft_weight(non_positional_pref,20)\", \"soft_weight(orientation_binned,2)\", \"soft_weight(c_d_point,10)\", \"soft_weight(aggregate,4)\", \"soft_weight(bin,2)\", \"soft_weight(zero_bin,1)\", \"soft_weight(ordered_size,10)\", \"soft_weight(aggregate_count,0)\"\\n          ]\\n        }\\n      ]\\n    },\\n    {\\n      \"Witnesses\": [\\n        {\\n          \"Value\": [\\n            \"base(\\\\\"anchor0\\\\\")\", \"visualization(\\\\\"view\\\\\")\", \"visualization(\\\\\"anchor0\\\\\")\", \"encoding(\\\\\"view\\\\\",e0)\", \"encoding(\\\\\"anchor0\\\\\",e0)\", \"mark(\\\\\"view\\\\\",point)\", \"mark(\\\\\"anchor0\\\\\",tick)\", \"zero(\\\\\"anchor0\\\\\",e0)\", \"channel(\\\\\"anchor0\\\\\",e0,x)\", \"field(\\\\\"anchor0\\\\\",e0,\\\\\"IMDB_Rating\\\\\")\", \"soft(encoding,\\\\\"view\\\\\",e0)\", \"soft(encoding,\\\\\"anchor0\\\\\",e0)\", \"soft(encoding_field,\\\\\"anchor0\\\\\",e0)\", \"soft(type_q,\\\\\"anchor0\\\\\",e0)\", \"soft(continuous_x,\\\\\"anchor0\\\\\",e0)\", \"type(\\\\\"anchor0\\\\\",e0,quantitative)\", \"compare(edit_point_tick,\\\\\"anchor0\\\\\",\\\\\"view\\\\\",tick,point)\", \"soft(c_d_tick,\\\\\"anchor0\\\\\",_placeholder)\", \"soft_weight(c_d_tick,0)\", \"compare_weight(edit_point_tick,1)\", \"soft_weight(encoding,0)\", \"soft_weight(encoding_field,6)\", \"soft_weight(type_q,0)\", \"soft_weight(continuous_x,0)\", \"encoding(\\\\\"view\\\\\",1)\", \"channel(\\\\\"view\\\\\",1,x)\", \"field(\\\\\"view\\\\\",e0,\\\\\"IMDB_Rating\\\\\")\", \"aggregate(\\\\\"view\\\\\",1,count)\", \"channel(\\\\\"view\\\\\",e0,size)\", \"compare(edit_move_x_size,\\\\\"anchor0\\\\\",\\\\\"view\\\\\",e0,e0)\", \"zero(\\\\\"view\\\\\",e0)\", \"zero(\\\\\"view\\\\\",1)\", \"aggregate(\\\\\"view\\\\\",e0,mean)\", \"compare(edit_aggregate,\\\\\"anchor0\\\\\",\\\\\"view\\\\\",e0,e0)\", \"compare_weight(edit_move_x_size,446)\", \"compare_weight(edit_aggregate,63)\", \"type(\\\\\"view\\\\\",e0,quantitative)\", \"type(\\\\\"view\\\\\",1,quantitative)\", \"soft(non_positional_pref,\\\\\"view\\\\\",_placeholder)\", \"soft(agg_dim,\\\\\"view\\\\\",_placeholder)\", \"soft(c_d_no_overlap_point,\\\\\"view\\\\\",_placeholder)\", \"soft(aggregate,\\\\\"view\\\\\",e0)\", \"soft(aggregate,\\\\\"view\\\\\",1)\", \"soft(encoding,\\\\\"view\\\\\",1)\", \"soft(encoding_field,\\\\\"view\\\\\",e0)\", \"soft(type_q,\\\\\"view\\\\\",e0)\", \"soft(type_q,\\\\\"view\\\\\",1)\", \"soft(continuous_x,\\\\\"view\\\\\",1)\", \"soft(continuous_size,\\\\\"view\\\\\",e0)\", \"soft(aggregate_count,\\\\\"view\\\\\",1)\", \"soft(aggregate_mean,\\\\\"view\\\\\",e0)\", \"soft_weight(non_positional_pref,20)\", \"soft_weight(agg_dim,2)\", \"soft_weight(c_d_no_overlap_point,20)\", \"soft_weight(aggregate,4)\", \"soft_weight(continuous_size,1)\", \"soft_weight(aggregate_count,0)\", \"soft_weight(aggregate_mean,1)\"\\n          ]\\n        }\\n      ]\\n    },\\n    {\\n      \"Witnesses\": [\\n        {\\n          \"Value\": [\\n            \"base(\\\\\"anchor0\\\\\")\", \"visualization(\\\\\"view\\\\\")\", \"visualization(\\\\\"anchor0\\\\\")\", \"encoding(\\\\\"view\\\\\",e0)\", \"encoding(\\\\\"anchor0\\\\\",e0)\", \"mark(\\\\\"view\\\\\",point)\", \"mark(\\\\\"anchor0\\\\\",tick)\", \"zero(\\\\\"anchor0\\\\\",e0)\", \"channel(\\\\\"anchor0\\\\\",e0,x)\", \"field(\\\\\"anchor0\\\\\",e0,\\\\\"IMDB_Rating\\\\\")\", \"soft(encoding,\\\\\"view\\\\\",e0)\", \"soft(encoding,\\\\\"anchor0\\\\\",e0)\", \"soft(encoding_field,\\\\\"anchor0\\\\\",e0)\", \"soft(type_q,\\\\\"anchor0\\\\\",e0)\", \"soft(continuous_x,\\\\\"anchor0\\\\\",e0)\", \"type(\\\\\"anchor0\\\\\",e0,quantitative)\", \"compare(edit_point_tick,\\\\\"anchor0\\\\\",\\\\\"view\\\\\",tick,point)\", \"soft(c_d_tick,\\\\\"anchor0\\\\\",_placeholder)\", \"soft_weight(c_d_tick,0)\", \"compare_weight(edit_point_tick,1)\", \"soft_weight(encoding,0)\", \"soft_weight(encoding_field,6)\", \"soft_weight(type_q,0)\", \"soft_weight(continuous_x,0)\", \"encoding(\\\\\"view\\\\\",1)\", \"channel(\\\\\"view\\\\\",e0,x)\", \"field(\\\\\"view\\\\\",e0,\\\\\"IMDB_Rating\\\\\")\", \"aggregate(\\\\\"view\\\\\",1,count)\", \"channel(\\\\\"view\\\\\",1,size)\", \"compare(edit_add_size_count,\\\\\"anchor0\\\\\",\\\\\"view\\\\\",1,count)\", \"compare(edit_scale,\\\\\"anchor0\\\\\",\\\\\"view\\\\\",e0,e0)\", \"zero(\\\\\"view\\\\\",1)\", \"compare_weight(edit_add_size_count,452)\", \"compare_weight(edit_scale,60)\", \"type(\\\\\"view\\\\\",e0,quantitative)\", \"type(\\\\\"view\\\\\",1,quantitative)\", \"soft(non_positional_pref,\\\\\"view\\\\\",_placeholder)\", \"soft(aggregate_group_by_raw,e0,_placeholder)\", \"soft(agg_dim,\\\\\"view\\\\\",_placeholder)\", \"soft(zero_positional,\\\\\"view\\\\\",_placeholder)\", \"soft(c_d_point,\\\\\"view\\\\\",_placeholder)\", \"soft(aggregate,\\\\\"view\\\\\",1)\", \"soft(encoding,\\\\\"view\\\\\",1)\", \"soft(encoding_field,\\\\\"view\\\\\",e0)\", \"soft(zero,\\\\\"view\\\\\",e0)\", \"soft(type_q,\\\\\"view\\\\\",e0)\", \"soft(type_q,\\\\\"view\\\\\",1)\", \"soft(continuous_x,\\\\\"view\\\\\",e0)\", \"soft(continuous_size,\\\\\"view\\\\\",1)\", \"soft(aggregate_count,\\\\\"view\\\\\",1)\", \"soft_weight(non_positional_pref,20)\", \"soft_weight(aggregate_group_by_raw,10)\", \"soft_weight(agg_dim,2)\", \"soft_weight(zero_positional,1)\", \"soft_weight(c_d_point,10)\", \"soft_weight(aggregate,4)\", \"soft_weight(zero,1)\", \"soft_weight(continuous_size,1)\", \"soft_weight(aggregate_count,0)\"\\n          ]\\n        }\\n      ]\\n    },\\n    {\\n      \"Witnesses\": [\\n        {\\n          \"Value\": [\\n            \"base(\\\\\"anchor0\\\\\")\", \"visualization(\\\\\"view\\\\\")\", \"visualization(\\\\\"anchor0\\\\\")\", \"encoding(\\\\\"view\\\\\",e0)\", \"encoding(\\\\\"anchor0\\\\\",e0)\", \"mark(\\\\\"view\\\\\",point)\", \"mark(\\\\\"anchor0\\\\\",tick)\", \"zero(\\\\\"anchor0\\\\\",e0)\", \"channel(\\\\\"anchor0\\\\\",e0,x)\", \"field(\\\\\"anchor0\\\\\",e0,\\\\\"IMDB_Rating\\\\\")\", \"soft(encoding,\\\\\"view\\\\\",e0)\", \"soft(encoding,\\\\\"anchor0\\\\\",e0)\", \"soft(encoding_field,\\\\\"anchor0\\\\\",e0)\", \"soft(type_q,\\\\\"anchor0\\\\\",e0)\", \"soft(continuous_x,\\\\\"anchor0\\\\\",e0)\", \"type(\\\\\"anchor0\\\\\",e0,quantitative)\", \"compare(edit_point_tick,\\\\\"anchor0\\\\\",\\\\\"view\\\\\",tick,point)\", \"soft(c_d_tick,\\\\\"anchor0\\\\\",_placeholder)\", \"soft_weight(c_d_tick,0)\", \"compare_weight(edit_point_tick,1)\", \"soft_weight(encoding,0)\", \"soft_weight(encoding_field,6)\", \"soft_weight(type_q,0)\", \"soft_weight(continuous_x,0)\", \"encoding(\\\\\"view\\\\\",1)\", \"channel(\\\\\"view\\\\\",e0,x)\", \"field(\\\\\"view\\\\\",e0,\\\\\"IMDB_Rating\\\\\")\", \"aggregate(\\\\\"view\\\\\",1,count)\", \"channel(\\\\\"view\\\\\",1,size)\", \"compare(edit_add_size_count,\\\\\"anchor0\\\\\",\\\\\"view\\\\\",1,count)\", \"zero(\\\\\"view\\\\\",e0)\", \"zero(\\\\\"view\\\\\",1)\", \"bin(\\\\\"view\\\\\",e0,10)\", \"compare(edit_bin,\\\\\"anchor0\\\\\",\\\\\"view\\\\\",e0,e0)\", \"compare_weight(edit_add_size_count,452)\", \"compare_weight(edit_bin,62)\", \"type(\\\\\"view\\\\\",e0,quantitative)\", \"type(\\\\\"view\\\\\",1,quantitative)\", \"soft(non_positional_pref,\\\\\"view\\\\\",_placeholder)\", \"soft(aggregate,\\\\\"view\\\\\",1)\", \"soft(bin,\\\\\"view\\\\\",e0)\", \"soft(encoding,\\\\\"view\\\\\",1)\", \"soft(encoding_field,\\\\\"view\\\\\",e0)\", \"soft(zero_bin,\\\\\"view\\\\\",e0)\", \"soft(type_q,\\\\\"view\\\\\",e0)\", \"soft(type_q,\\\\\"view\\\\\",1)\", \"soft(continuous_size,\\\\\"view\\\\\",1)\", \"soft(ordered_x,\\\\\"view\\\\\",e0)\", \"soft(aggregate_count,\\\\\"view\\\\\",1)\", \"soft_weight(non_positional_pref,20)\", \"soft_weight(aggregate,4)\", \"soft_weight(bin,2)\", \"soft_weight(zero_bin,1)\", \"soft_weight(continuous_size,1)\", \"soft_weight(ordered_x,1)\", \"soft_weight(aggregate_count,0)\"\\n          ]\\n        }\\n      ]\\n    }\\n  ],\\n  \"Result\": \"OPTIMUM FOUND\",\\n  \"Models\": {\\n    \"Number\": 190,\\n    \"More\": \"yes\",\\n    \"Optimum\": \"yes\",\\n    \"Optimal\": 1,\\n    \"Costs\": [\\n      515, 41\\n    ]\\n  },\\n  \"Calls\": 20,\\n  \"Time\": {\\n    \"Total\": 0.126,\\n    \"Solve\": 0.010,\\n    \"Model\": 0.001,\\n    \"Unsat\": 0.001,\\n    \"CPU\": 0.124\\n  }\\n}\\noops!\\n'\n"
     ]
    },
    {
     "name": "stderr",
     "output_type": "stream",
     "text": [
      "ERROR:draco.run:stderr: b''\n"
     ]
    },
    {
     "name": "stdout",
     "output_type": "stream",
     "text": [
      "anchored unsat\n",
      "['clingo', '--outf=2', '--quiet=1,2,2']\n",
      "{'$schema': 'https://vega.github.io/schema/vega-lite/v3.json', 'data': {'url': 'data/cars.json'}, 'mark': 'tick', 'encoding': {'x': {'type': 'quantitative', 'field': 'IMDB_Rating', 'scale': {'zero': True}}}}\n",
      "{'type': 'mark', 'mark': 'point'}\n",
      "['clingo', '--outf=2', '--quiet=1,2,2']\n",
      "visualization(\"view\").\n",
      "num_rows(3201).\n",
      "\n",
      "fieldtype(\"Creative_Type\",string).\n",
      "cardinality(\"Creative_Type\", 10).\n",
      "fieldtype(\"Director\",string).\n",
      "cardinality(\"Director\", 551).\n",
      "fieldtype(\"Distributor\",string).\n",
      "cardinality(\"Distributor\", 175).\n",
      "fieldtype(\"IMDB_Rating\",number).\n",
      "cardinality(\"IMDB_Rating\", 78).\n",
      "fieldtype(\"IMDB_Votes\",number).\n",
      "cardinality(\"IMDB_Votes\", 2840).\n",
      "fieldtype(\"MPAA_Rating\",string).\n",
      "cardinality(\"MPAA_Rating\", 8).\n",
      "fieldtype(\"Major_Genre\",string).\n",
      "cardinality(\"Major_Genre\", 13).\n",
      "fieldtype(\"Production_Budget\",number).\n",
      "cardinality(\"Production_Budget\", 382).\n",
      "fieldtype(\"Release_Date\",string).\n",
      "cardinality(\"Release_Date\", 1600).\n",
      "fieldtype(\"Rotten_Tomatoes_Rating\",number).\n",
      "cardinality(\"Rotten_Tomatoes_Rating\", 101).\n",
      "fieldtype(\"Running_Time_min\",number).\n",
      "cardinality(\"Running_Time_min\", 110).\n",
      "fieldtype(\"Source\",string).\n",
      "cardinality(\"Source\", 19).\n",
      "fieldtype(\"Title\",string).\n",
      "cardinality(\"Title\", 3177).\n",
      "fieldtype(\"US_DVD_Sales\",number).\n",
      "cardinality(\"US_DVD_Sales\", 565).\n",
      "fieldtype(\"US_Gross\",number).\n",
      "cardinality(\"US_Gross\", 3061).\n",
      "fieldtype(\"Worldwide_Gross\",number).\n",
      "cardinality(\"Worldwide_Gross\", 3075).\n",
      "\n",
      "mark(\"view\",point).\n",
      "encoding(\"view\",e0).\n",
      ":- not field(\"view\",E,\"IMDB_Rating\") : encoding(\"view\",E).\n",
      "base(\"anchor0\").\n",
      "visualization(\"anchor0\").\n",
      "encoding(\"anchor0\",e0).\n",
      "channel(\"anchor0\",e0,x).\n",
      "field(\"anchor0\",e0,\"IMDB_Rating\").\n",
      "zero(\"anchor0\",e0).\n",
      "type(\"anchor0\",e0,quantitative).\n",
      "mark(\"anchor0\",tick).\n",
      "['clingo', '--outf=2', '--quiet=1,2,2']\n",
      "['visualization(\"view\").', 'encoding(\"view\",e0).', 'mark(\"view\",point).', 'channel(\"view\",e0,x).', 'field(\"view\",e0,\"IMDB_Rating\").', 'zero(\"view\",e0).', 'type(\"view\",e0,quantitative).']\n"
     ]
    }
   ],
   "source": [
    "with_differences = []\n",
    "for (i, n) in enumerate(nexts):\n",
    "    print('{0} / {1}'.format(i, len(nexts)))\n",
    "    \n",
    "    cold = n['cold']\n",
    "    anchored = n['anchored']\n",
    "    \n",
    "    if not cold.is_satisfiable():\n",
    "        print('cold unsat')\n",
    "        continue\n",
    "        \n",
    "    if not anchored.is_satisfiable():\n",
    "        print('anchored unsat')\n",
    "        print(n['prior']._get_vegalite())\n",
    "        print(n['edit'])\n",
    "        print('\\n'.join(n['anchored']._get_full_query()))\n",
    "        print(n['cold']._get_asp_complete())\n",
    "        break\n",
    "        \n",
    "    if i == 2:\n",
    "        break\n",
    "    \n",
    "    diff = n['cold'] - n['anchored']\n",
    "    if (len(diff) != 0):\n",
    "        with_differences.append(n)"
   ]
  },
  {
   "cell_type": "code",
   "execution_count": 21,
   "metadata": {},
   "outputs": [
    {
     "name": "stdout",
     "output_type": "stream",
     "text": [
      "['clingo', '--outf=2', '--quiet=1,2,2']\n",
      "define.lp\n",
      "generate.lp\n",
      "hard.lp\n",
      "soft.lp\n",
      "weights.lp\n",
      "assign_weights.lp\n",
      "output.lp\n",
      "compare.lp\n",
      "assign_compare_weights.lp\n",
      "compare_weights.lp\n",
      "optimize_draco.lp\n",
      "['clingo', '--outf=2', '--quiet=1,2,2', '--opt-mode=OptN', '--models=20', '--warn=no-atom-undefined']\n"
     ]
    },
    {
     "name": "stderr",
     "output_type": "stream",
     "text": [
      "INFO:draco.run:Constraints are unsatisfiable.\n"
     ]
    },
    {
     "ename": "TypeError",
     "evalue": "'NoneType' object is not iterable",
     "output_type": "error",
     "traceback": [
      "\u001b[0;31m---------------------------------------------------------------------------\u001b[0m",
      "\u001b[0;31mTypeError\u001b[0m                                 Traceback (most recent call last)",
      "\u001b[0;32m/anaconda3/lib/python3.6/site-packages/IPython/core/formatters.py\u001b[0m in \u001b[0;36m__call__\u001b[0;34m(self, obj, include, exclude)\u001b[0m\n\u001b[1;32m    968\u001b[0m \u001b[0;34m\u001b[0m\u001b[0m\n\u001b[1;32m    969\u001b[0m             \u001b[0;32mif\u001b[0m \u001b[0mmethod\u001b[0m \u001b[0;32mis\u001b[0m \u001b[0;32mnot\u001b[0m \u001b[0;32mNone\u001b[0m\u001b[0;34m:\u001b[0m\u001b[0;34m\u001b[0m\u001b[0;34m\u001b[0m\u001b[0m\n\u001b[0;32m--> 970\u001b[0;31m                 \u001b[0;32mreturn\u001b[0m \u001b[0mmethod\u001b[0m\u001b[0;34m(\u001b[0m\u001b[0minclude\u001b[0m\u001b[0;34m=\u001b[0m\u001b[0minclude\u001b[0m\u001b[0;34m,\u001b[0m \u001b[0mexclude\u001b[0m\u001b[0;34m=\u001b[0m\u001b[0mexclude\u001b[0m\u001b[0;34m)\u001b[0m\u001b[0;34m\u001b[0m\u001b[0;34m\u001b[0m\u001b[0m\n\u001b[0m\u001b[1;32m    971\u001b[0m             \u001b[0;32mreturn\u001b[0m \u001b[0;32mNone\u001b[0m\u001b[0;34m\u001b[0m\u001b[0;34m\u001b[0m\u001b[0m\n\u001b[1;32m    972\u001b[0m         \u001b[0;32melse\u001b[0m\u001b[0;34m:\u001b[0m\u001b[0;34m\u001b[0m\u001b[0;34m\u001b[0m\u001b[0m\n",
      "\u001b[0;32m~/dziban/dziban/mkiv/chart.py\u001b[0m in \u001b[0;36m_repr_mimebundle_\u001b[0;34m(self, include, exclude)\u001b[0m\n\u001b[1;32m    208\u001b[0m \u001b[0;34m\u001b[0m\u001b[0m\n\u001b[1;32m    209\u001b[0m   \u001b[0;32mdef\u001b[0m \u001b[0m_repr_mimebundle_\u001b[0m\u001b[0;34m(\u001b[0m\u001b[0mself\u001b[0m\u001b[0;34m,\u001b[0m \u001b[0minclude\u001b[0m\u001b[0;34m=\u001b[0m\u001b[0;32mNone\u001b[0m\u001b[0;34m,\u001b[0m \u001b[0mexclude\u001b[0m\u001b[0;34m=\u001b[0m\u001b[0;32mNone\u001b[0m\u001b[0;34m)\u001b[0m\u001b[0;34m:\u001b[0m\u001b[0;34m\u001b[0m\u001b[0;34m\u001b[0m\u001b[0m\n\u001b[0;32m--> 210\u001b[0;31m     \u001b[0;32mreturn\u001b[0m \u001b[0mself\u001b[0m\u001b[0;34m.\u001b[0m\u001b[0m_get_render\u001b[0m\u001b[0;34m(\u001b[0m\u001b[0;34m)\u001b[0m\u001b[0;34m.\u001b[0m\u001b[0m_repr_mimebundle_\u001b[0m\u001b[0;34m(\u001b[0m\u001b[0minclude\u001b[0m\u001b[0;34m,\u001b[0m \u001b[0mexclude\u001b[0m\u001b[0;34m)\u001b[0m\u001b[0;34m\u001b[0m\u001b[0;34m\u001b[0m\u001b[0m\n\u001b[0m",
      "\u001b[0;32m~/dziban/dziban/mkiv/chart.py\u001b[0m in \u001b[0;36m_get_render\u001b[0;34m(self)\u001b[0m\n\u001b[1;32m    204\u001b[0m \u001b[0;34m\u001b[0m\u001b[0m\n\u001b[1;32m    205\u001b[0m   \u001b[0;32mdef\u001b[0m \u001b[0m_get_render\u001b[0m\u001b[0;34m(\u001b[0m\u001b[0mself\u001b[0m\u001b[0;34m)\u001b[0m\u001b[0;34m:\u001b[0m\u001b[0;34m\u001b[0m\u001b[0;34m\u001b[0m\u001b[0m\n\u001b[0;32m--> 206\u001b[0;31m     \u001b[0mvegalite\u001b[0m \u001b[0;34m=\u001b[0m \u001b[0mself\u001b[0m\u001b[0;34m.\u001b[0m\u001b[0m_get_vegalite\u001b[0m\u001b[0;34m(\u001b[0m\u001b[0;34m)\u001b[0m\u001b[0;34m\u001b[0m\u001b[0;34m\u001b[0m\u001b[0m\n\u001b[0m\u001b[1;32m    207\u001b[0m     \u001b[0;32mreturn\u001b[0m \u001b[0mVegaLite\u001b[0m\u001b[0;34m(\u001b[0m\u001b[0mvegalite\u001b[0m\u001b[0;34m,\u001b[0m \u001b[0mself\u001b[0m\u001b[0;34m.\u001b[0m\u001b[0m_data\u001b[0m\u001b[0;34m)\u001b[0m\u001b[0;34m\u001b[0m\u001b[0;34m\u001b[0m\u001b[0m\n\u001b[1;32m    208\u001b[0m \u001b[0;34m\u001b[0m\u001b[0m\n",
      "\u001b[0;32m~/dziban/dziban/mkiv/chart.py\u001b[0m in \u001b[0;36m_get_vegalite\u001b[0;34m(self)\u001b[0m\n\u001b[1;32m    198\u001b[0m \u001b[0;34m\u001b[0m\u001b[0m\n\u001b[1;32m    199\u001b[0m   \u001b[0;32mdef\u001b[0m \u001b[0m_get_vegalite\u001b[0m\u001b[0;34m(\u001b[0m\u001b[0mself\u001b[0m\u001b[0;34m)\u001b[0m\u001b[0;34m:\u001b[0m\u001b[0;34m\u001b[0m\u001b[0;34m\u001b[0m\u001b[0m\n\u001b[0;32m--> 200\u001b[0;31m     \u001b[0msol\u001b[0m \u001b[0;34m=\u001b[0m \u001b[0mself\u001b[0m\u001b[0;34m.\u001b[0m\u001b[0m_get_draco_sol\u001b[0m\u001b[0;34m(\u001b[0m\u001b[0;34m)\u001b[0m\u001b[0;34m\u001b[0m\u001b[0;34m\u001b[0m\u001b[0m\n\u001b[0m\u001b[1;32m    201\u001b[0m \u001b[0;34m\u001b[0m\u001b[0m\n\u001b[1;32m    202\u001b[0m     \u001b[0mvegalite\u001b[0m \u001b[0;34m=\u001b[0m \u001b[0msol\u001b[0m\u001b[0;34m.\u001b[0m\u001b[0mas_vl\u001b[0m\u001b[0;34m(\u001b[0m\u001b[0mChart\u001b[0m\u001b[0;34m.\u001b[0m\u001b[0mDEFAULT_NAME\u001b[0m\u001b[0;34m)\u001b[0m\u001b[0;34m\u001b[0m\u001b[0;34m\u001b[0m\u001b[0m\n",
      "\u001b[0;32m~/dziban/dziban/mkiv/chart.py\u001b[0m in \u001b[0;36m_get_draco_sol\u001b[0;34m(self)\u001b[0m\n\u001b[1;32m     65\u001b[0m   \u001b[0;32mdef\u001b[0m \u001b[0m_get_draco_sol\u001b[0m\u001b[0;34m(\u001b[0m\u001b[0mself\u001b[0m\u001b[0;34m)\u001b[0m\u001b[0;34m:\u001b[0m\u001b[0;34m\u001b[0m\u001b[0;34m\u001b[0m\u001b[0m\n\u001b[1;32m     66\u001b[0m     \u001b[0;32mif\u001b[0m \u001b[0;34m(\u001b[0m\u001b[0mself\u001b[0m\u001b[0;34m.\u001b[0m\u001b[0m_anchor\u001b[0m\u001b[0;34m)\u001b[0m\u001b[0;34m:\u001b[0m\u001b[0;34m\u001b[0m\u001b[0;34m\u001b[0m\u001b[0m\n\u001b[0;32m---> 67\u001b[0;31m       \u001b[0mtopk\u001b[0m \u001b[0;34m=\u001b[0m \u001b[0mself\u001b[0m\u001b[0;34m.\u001b[0m\u001b[0m_get_topk_from_anchor\u001b[0m\u001b[0;34m(\u001b[0m\u001b[0;34m)\u001b[0m\u001b[0;34m\u001b[0m\u001b[0;34m\u001b[0m\u001b[0m\n\u001b[0m\u001b[1;32m     68\u001b[0m       \u001b[0;32mreturn\u001b[0m \u001b[0mtopk\u001b[0m\u001b[0;34m[\u001b[0m\u001b[0;36m0\u001b[0m\u001b[0;34m]\u001b[0m\u001b[0;34m[\u001b[0m\u001b[0;36m0\u001b[0m\u001b[0;34m]\u001b[0m\u001b[0;34m\u001b[0m\u001b[0;34m\u001b[0m\u001b[0m\n\u001b[1;32m     69\u001b[0m     \u001b[0;32melse\u001b[0m\u001b[0;34m:\u001b[0m\u001b[0;34m\u001b[0m\u001b[0;34m\u001b[0m\u001b[0m\n",
      "\u001b[0;32m~/dziban/dziban/mkiv/chart.py\u001b[0m in \u001b[0;36m_get_topk_from_anchor\u001b[0;34m(self)\u001b[0m\n\u001b[1;32m     92\u001b[0m     \u001b[0;31m# best_graphscape = draco(query, files=opt_graphscape_files, topk=True, k=Chart.K, silence_warnings=True)\u001b[0m\u001b[0;34m\u001b[0m\u001b[0;34m\u001b[0m\u001b[0;34m\u001b[0m\u001b[0m\n\u001b[1;32m     93\u001b[0m \u001b[0;34m\u001b[0m\u001b[0m\n\u001b[0;32m---> 94\u001b[0;31m     \u001b[0mgood\u001b[0m \u001b[0;34m=\u001b[0m \u001b[0mfilter_sols\u001b[0m\u001b[0;34m(\u001b[0m\u001b[0mbest_draco\u001b[0m\u001b[0;34m)\u001b[0m\u001b[0;34m\u001b[0m\u001b[0;34m\u001b[0m\u001b[0m\n\u001b[0m\u001b[1;32m     95\u001b[0m \u001b[0;34m\u001b[0m\u001b[0m\n\u001b[1;32m     96\u001b[0m     \u001b[0;32mif\u001b[0m \u001b[0;34m(\u001b[0m\u001b[0mlen\u001b[0m\u001b[0;34m(\u001b[0m\u001b[0mgood\u001b[0m\u001b[0;34m)\u001b[0m \u001b[0;34m==\u001b[0m \u001b[0;36m1\u001b[0m\u001b[0;34m)\u001b[0m\u001b[0;34m:\u001b[0m\u001b[0;34m\u001b[0m\u001b[0;34m\u001b[0m\u001b[0m\n",
      "\u001b[0;32m~/dziban/dziban/mkiv/util.py\u001b[0m in \u001b[0;36mfilter_sols\u001b[0;34m(sols)\u001b[0m\n\u001b[1;32m      5\u001b[0m \u001b[0;32mdef\u001b[0m \u001b[0mfilter_sols\u001b[0m\u001b[0;34m(\u001b[0m\u001b[0msols\u001b[0m\u001b[0;34m)\u001b[0m\u001b[0;34m:\u001b[0m\u001b[0;34m\u001b[0m\u001b[0;34m\u001b[0m\u001b[0m\n\u001b[1;32m      6\u001b[0m   \u001b[0mgood\u001b[0m \u001b[0;34m=\u001b[0m \u001b[0;34m[\u001b[0m\u001b[0;34m]\u001b[0m\u001b[0;34m\u001b[0m\u001b[0;34m\u001b[0m\u001b[0m\n\u001b[0;32m----> 7\u001b[0;31m   \u001b[0;32mfor\u001b[0m \u001b[0mv1\u001b[0m \u001b[0;32min\u001b[0m \u001b[0msols\u001b[0m\u001b[0;34m:\u001b[0m\u001b[0;34m\u001b[0m\u001b[0;34m\u001b[0m\u001b[0m\n\u001b[0m\u001b[1;32m      8\u001b[0m     \u001b[0mbetter\u001b[0m \u001b[0;34m=\u001b[0m \u001b[0;34m[\u001b[0m\u001b[0mv1\u001b[0m\u001b[0;34m.\u001b[0m\u001b[0mg\u001b[0m \u001b[0;34m<=\u001b[0m \u001b[0mv2\u001b[0m\u001b[0;34m.\u001b[0m\u001b[0mg\u001b[0m \u001b[0;32mor\u001b[0m \u001b[0mv1\u001b[0m\u001b[0;34m.\u001b[0m\u001b[0md\u001b[0m \u001b[0;34m<=\u001b[0m \u001b[0mv2\u001b[0m\u001b[0;34m.\u001b[0m\u001b[0md\u001b[0m \u001b[0;32mfor\u001b[0m \u001b[0mv2\u001b[0m \u001b[0;32min\u001b[0m \u001b[0msols\u001b[0m\u001b[0;34m]\u001b[0m\u001b[0;34m\u001b[0m\u001b[0;34m\u001b[0m\u001b[0m\n\u001b[1;32m      9\u001b[0m     \u001b[0maccept\u001b[0m \u001b[0;34m=\u001b[0m \u001b[0mall\u001b[0m\u001b[0;34m(\u001b[0m\u001b[0mbetter\u001b[0m\u001b[0;34m)\u001b[0m\u001b[0;34m\u001b[0m\u001b[0;34m\u001b[0m\u001b[0m\n",
      "\u001b[0;31mTypeError\u001b[0m: 'NoneType' object is not iterable"
     ]
    },
    {
     "data": {
      "text/plain": [
       "<dziban.mkiv.chart.Chart at 0x11d23b588>"
      ]
     },
     "execution_count": 21,
     "metadata": {},
     "output_type": "execute_result"
    }
   ],
   "source": [
    "nexts[2]['anchored']"
   ]
  },
  {
   "cell_type": "code",
   "execution_count": null,
   "metadata": {},
   "outputs": [],
   "source": []
  },
  {
   "cell_type": "code",
   "execution_count": null,
   "metadata": {},
   "outputs": [],
   "source": []
  }
 ],
 "metadata": {
  "kernelspec": {
   "display_name": "Python 3",
   "language": "python",
   "name": "python3"
  },
  "language_info": {
   "codemirror_mode": {
    "name": "ipython",
    "version": 3
   },
   "file_extension": ".py",
   "mimetype": "text/x-python",
   "name": "python",
   "nbconvert_exporter": "python",
   "pygments_lexer": "ipython3",
   "version": "3.6.8"
  }
 },
 "nbformat": 4,
 "nbformat_minor": 2
}
