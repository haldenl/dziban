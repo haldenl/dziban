{
 "cells": [
  {
   "cell_type": "code",
   "execution_count": 1,
   "metadata": {},
   "outputs": [],
   "source": [
    "from dziban.mkiv import Chart\n",
    "from vega_datasets import data\n",
    "from copy import deepcopy\n",
    "import json\n",
    "from tqdm import tqdm\n",
    "import pandas as pd"
   ]
  },
  {
   "cell_type": "code",
   "execution_count": 2,
   "metadata": {},
   "outputs": [
    {
     "data": {
      "text/html": [
       "<div>\n",
       "<style scoped>\n",
       "    .dataframe tbody tr th:only-of-type {\n",
       "        vertical-align: middle;\n",
       "    }\n",
       "\n",
       "    .dataframe tbody tr th {\n",
       "        vertical-align: top;\n",
       "    }\n",
       "\n",
       "    .dataframe thead th {\n",
       "        text-align: right;\n",
       "    }\n",
       "</style>\n",
       "<table border=\"1\" class=\"dataframe\">\n",
       "  <thead>\n",
       "    <tr style=\"text-align: right;\">\n",
       "      <th></th>\n",
       "      <th>Creative_Type</th>\n",
       "      <th>Director</th>\n",
       "      <th>Distributor</th>\n",
       "      <th>IMDB_Rating</th>\n",
       "      <th>IMDB_Votes</th>\n",
       "      <th>MPAA_Rating</th>\n",
       "      <th>Major_Genre</th>\n",
       "      <th>Production_Budget</th>\n",
       "      <th>Release_Date</th>\n",
       "      <th>Rotten_Tomatoes_Rating</th>\n",
       "      <th>Running_Time_min</th>\n",
       "      <th>Source</th>\n",
       "      <th>Title</th>\n",
       "      <th>US_DVD_Sales</th>\n",
       "      <th>US_Gross</th>\n",
       "      <th>Worldwide_Gross</th>\n",
       "    </tr>\n",
       "  </thead>\n",
       "  <tbody>\n",
       "    <tr>\n",
       "      <th>0</th>\n",
       "      <td>None</td>\n",
       "      <td>None</td>\n",
       "      <td>Gramercy</td>\n",
       "      <td>6.1</td>\n",
       "      <td>1071.0</td>\n",
       "      <td>R</td>\n",
       "      <td>None</td>\n",
       "      <td>8000000.0</td>\n",
       "      <td>Jun 12 1998</td>\n",
       "      <td>NaN</td>\n",
       "      <td>NaN</td>\n",
       "      <td>None</td>\n",
       "      <td>The Land Girls</td>\n",
       "      <td>NaN</td>\n",
       "      <td>146083.0</td>\n",
       "      <td>146083.0</td>\n",
       "    </tr>\n",
       "  </tbody>\n",
       "</table>\n",
       "</div>"
      ],
      "text/plain": [
       "  Creative_Type Director Distributor  IMDB_Rating  IMDB_Votes MPAA_Rating  \\\n",
       "0          None     None    Gramercy          6.1      1071.0           R   \n",
       "\n",
       "  Major_Genre  Production_Budget Release_Date  Rotten_Tomatoes_Rating  \\\n",
       "0        None          8000000.0  Jun 12 1998                     NaN   \n",
       "\n",
       "   Running_Time_min Source           Title  US_DVD_Sales  US_Gross  \\\n",
       "0               NaN   None  The Land Girls           NaN  146083.0   \n",
       "\n",
       "   Worldwide_Gross  \n",
       "0         146083.0  "
      ]
     },
     "execution_count": 2,
     "metadata": {},
     "output_type": "execute_result"
    }
   ],
   "source": [
    "movies = data('movies')\n",
    "movies.head(1)"
   ]
  },
  {
   "cell_type": "code",
   "execution_count": 3,
   "metadata": {},
   "outputs": [],
   "source": [
    "base = Chart(movies)"
   ]
  },
  {
   "cell_type": "code",
   "execution_count": 4,
   "metadata": {},
   "outputs": [],
   "source": [
    "q1 = 'IMDB_Rating'\n",
    "q2 = 'Rotten_Tomatoes_Rating'\n",
    "q3 = 'Worldwide_Gross'\n",
    "n1 = 'Major_Genre'\n",
    "n2 = 'MPAA_Rating'\n",
    "n3 = 'Creative_Type'\n",
    "\n",
    "fields = {\n",
    "    'q': [q1, q2, q3],\n",
    "    'n': [n1, n2, n3]\n",
    "}\n",
    "\n",
    "marks = ['point', 'bar', 'line', 'area', 'tick', 'rect']\n",
    "aggs = ['mean']"
   ]
  },
  {
   "cell_type": "code",
   "execution_count": 5,
   "metadata": {},
   "outputs": [],
   "source": [
    "def get_props_from_transform(transform):\n",
    "    props = {}\n",
    "    if (transform == 'bin'):\n",
    "        props['bin'] = True\n",
    "    elif (transform == 'agg'):\n",
    "        props['aggregate'] = 'mean'\n",
    "        \n",
    "    return props"
   ]
  },
  {
   "cell_type": "code",
   "execution_count": 6,
   "metadata": {},
   "outputs": [],
   "source": [
    "def generate_queries(currdims, targetdims, curr_query, queries):\n",
    "    if (currdims < targetdims):\n",
    "        for fieldtype in ['q', 'n']:\n",
    "            if (fieldtype == 'q'):\n",
    "                for transform in ['raw', 'bin', 'agg']:\n",
    "                    next_query = deepcopy(curr_query)\n",
    "                    next_query.append({ 'fieldtype': fieldtype, 'transform': transform })\n",
    "                    queries.append(next_query)\n",
    "\n",
    "                    generate_queries(currdims + 1, targetdims, next_query, queries)\n",
    "            else:\n",
    "                next_query = deepcopy(curr_query)\n",
    "                next_query.append({ 'fieldtype': fieldtype, 'transform': 'raw' })\n",
    "                queries.append(next_query)\n",
    "\n",
    "                generate_queries(currdims + 1, targetdims, next_query, queries)"
   ]
  },
  {
   "cell_type": "code",
   "execution_count": 7,
   "metadata": {},
   "outputs": [],
   "source": [
    "def dedupe_queries(queries):\n",
    "    seen = set()\n",
    "    \n",
    "    unique = []\n",
    "    for query in queries:\n",
    "        reps = {}\n",
    "        for field in query:\n",
    "            string = '{0}({1})'.format(field['transform'], field['fieldtype'])\n",
    "            if string not in reps:\n",
    "                reps[string] = 0\n",
    "            reps[string] += 1\n",
    "            \n",
    "        stringified = json.dumps(reps, sort_keys=True)\n",
    "        \n",
    "        if stringified not in seen:\n",
    "            seen.add(stringified)\n",
    "            unique.append(query)\n",
    "            \n",
    "    return unique\n",
    "            "
   ]
  },
  {
   "cell_type": "code",
   "execution_count": 8,
   "metadata": {},
   "outputs": [],
   "source": [
    "def query_to_dziban(prior, query, available_fields):\n",
    "    chart = prior\n",
    "    \n",
    "    used_fields = {}\n",
    "    \n",
    "    for field in query:\n",
    "        fieldtype = field['fieldtype']\n",
    "        transform = field['transform']\n",
    "        \n",
    "        fieldname = available_fields[fieldtype].pop(0)\n",
    "    \n",
    "        if (fieldtype not in used_fields):\n",
    "            used_fields[fieldtype] = []\n",
    "        used_fields[fieldtype].append(fieldname)\n",
    "        \n",
    "        props = get_props_from_transform(transform)\n",
    "        \n",
    "        props['ftype'] = 'quantitative' if fieldtype == 'q' else 'nominal'\n",
    "            \n",
    "        chart = chart.field(fieldname, **props)\n",
    "        \n",
    "    return {\n",
    "        'chart': chart,\n",
    "        'query': query,\n",
    "        'available_fields': available_fields,\n",
    "        'used_fields': used_fields\n",
    "    }\n",
    "        "
   ]
  },
  {
   "cell_type": "code",
   "execution_count": 9,
   "metadata": {},
   "outputs": [],
   "source": [
    "priors = []\n",
    "generate_queries(0, 2, [], priors)\n",
    "priors = dedupe_queries(priors)"
   ]
  },
  {
   "cell_type": "code",
   "execution_count": 10,
   "metadata": {},
   "outputs": [],
   "source": [
    "charts = [query_to_dziban(base, query, deepcopy(fields)) for query in priors]"
   ]
  },
  {
   "cell_type": "code",
   "execution_count": 11,
   "metadata": {},
   "outputs": [],
   "source": [
    "mark_edits = []\n",
    "for mark in marks:\n",
    "    mark_edits.append({\n",
    "        'type': 'mark',\n",
    "        'mark': mark\n",
    "    })"
   ]
  },
  {
   "cell_type": "code",
   "execution_count": 12,
   "metadata": {},
   "outputs": [],
   "source": [
    "add_field_edits = []\n",
    "for fieldtype in ['q', 'n']:\n",
    "    if (fieldtype == 'q'):\n",
    "        for transform in ['raw', 'bin', 'agg']:\n",
    "            add_field_edits.append({\n",
    "                'type': 'add_field',\n",
    "                'fieldtype': fieldtype,\n",
    "                'transform': transform\n",
    "            })\n",
    "            \n",
    "    else:\n",
    "        add_field_edits.append({\n",
    "            'type': 'add_field',\n",
    "            'fieldtype': fieldtype,\n",
    "            'transform': 'raw'\n",
    "        })"
   ]
  },
  {
   "cell_type": "code",
   "execution_count": 13,
   "metadata": {},
   "outputs": [],
   "source": [
    "bin_edits = [\n",
    "    {\n",
    "        'type': 'bin'\n",
    "    }\n",
    "]"
   ]
  },
  {
   "cell_type": "code",
   "execution_count": 14,
   "metadata": {},
   "outputs": [],
   "source": [
    "agg_edits = []\n",
    "for agg in aggs:\n",
    "    agg_edits.append(\n",
    "        {\n",
    "            'type': 'agg',\n",
    "            'agg': agg\n",
    "        }\n",
    "    )"
   ]
  },
  {
   "cell_type": "code",
   "execution_count": 15,
   "metadata": {},
   "outputs": [],
   "source": [
    "edits = mark_edits + add_field_edits + bin_edits + agg_edits"
   ]
  },
  {
   "cell_type": "code",
   "execution_count": 16,
   "metadata": {},
   "outputs": [],
   "source": [
    "def edit_dziban(dzi, edit):\n",
    "    edited_chart = dzi['chart']\n",
    "    etype = edit['type']\n",
    "    \n",
    "    if etype == 'mark':\n",
    "        edited_chart = edited_chart.mark(edit['mark'])\n",
    "    elif etype == 'add_field':\n",
    "        available_fields = dzi['available_fields']\n",
    "        field = available_fields[edit['fieldtype']].pop(0)\n",
    "        \n",
    "        if (edit['fieldtype'] not in dzi['used_fields']):\n",
    "            dzi['used_fields'][edit['fieldtype']] = []\n",
    "        dzi['used_fields'][edit['fieldtype']].append(field)\n",
    "        \n",
    "        props = get_props_from_transform(edit['transform'])\n",
    "        \n",
    "        edited_chart = edited_chart.field(field, **props)\n",
    "    elif etype == 'bin':\n",
    "        used_fields = dzi['used_fields']\n",
    "        \n",
    "        if ('q' not in used_fields):\n",
    "            return None\n",
    "        \n",
    "        field_to_bin = used_fields['q'][0]\n",
    "        \n",
    "        edited_chart = edited_chart.field(field_to_bin, bin=True)\n",
    "    elif etype == 'agg':\n",
    "        used_fields = dzi['used_fields']\n",
    "        \n",
    "        if ('q' not in used_fields):\n",
    "            return None\n",
    "        \n",
    "        field_to_agg = used_fields['q'][0]\n",
    "        edited_chart = edited_chart.field(field_to_agg, aggregate=edit['agg'])\n",
    "        \n",
    "    cold = edited_chart\n",
    "    anchored = edited_chart.anchor_on(dzi['chart'])\n",
    "    \n",
    "    return {\n",
    "        'prior': dzi['chart'],\n",
    "        'prior_query': dzi['query'],\n",
    "        'edit': edit,\n",
    "        'cold': cold,\n",
    "        'anchored': anchored,\n",
    "        'available_fields': dzi['available_fields'],\n",
    "        'used_fields': dzi['used_fields']\n",
    "    }"
   ]
  },
  {
   "cell_type": "code",
   "execution_count": 17,
   "metadata": {},
   "outputs": [],
   "source": [
    "nexts = []\n",
    "for chart in charts:\n",
    "    for edit in edits:\n",
    "        prior = deepcopy(chart)\n",
    "        edited = edit_dziban(prior, edit)\n",
    "        if edited is not None:\n",
    "            nexts.append(edited)"
   ]
  },
  {
   "cell_type": "code",
   "execution_count": 19,
   "metadata": {},
   "outputs": [
    {
     "name": "stderr",
     "output_type": "stream",
     "text": [
      "  6%|▌         | 10/164 [01:11<19:25,  7.57s/it]"
     ]
    },
    {
     "ename": "KeyboardInterrupt",
     "evalue": "",
     "output_type": "error",
     "traceback": [
      "\u001b[0;31m---------------------------------------------------------------------------\u001b[0m",
      "\u001b[0;31mKeyboardInterrupt\u001b[0m                         Traceback (most recent call last)",
      "\u001b[0;32m<ipython-input-19-145182e58acd>\u001b[0m in \u001b[0;36m<module>\u001b[0;34m\u001b[0m\n\u001b[1;32m     27\u001b[0m     \u001b[0mn\u001b[0m\u001b[0;34m[\u001b[0m\u001b[0;34m'cold_graphscape_rank'\u001b[0m\u001b[0;34m]\u001b[0m \u001b[0;34m=\u001b[0m \u001b[0mcold\u001b[0m\u001b[0;34m.\u001b[0m\u001b[0m_get_graphscape_rank\u001b[0m\u001b[0;34m(\u001b[0m\u001b[0mn\u001b[0m\u001b[0;34m[\u001b[0m\u001b[0;34m'prior'\u001b[0m\u001b[0;34m]\u001b[0m\u001b[0;34m)\u001b[0m\u001b[0;34m\u001b[0m\u001b[0;34m\u001b[0m\u001b[0m\n\u001b[1;32m     28\u001b[0m \u001b[0;34m\u001b[0m\u001b[0m\n\u001b[0;32m---> 29\u001b[0;31m     \u001b[0mn\u001b[0m\u001b[0;34m[\u001b[0m\u001b[0;34m'anchored_draco_rank'\u001b[0m\u001b[0;34m]\u001b[0m \u001b[0;34m=\u001b[0m \u001b[0manchored\u001b[0m\u001b[0;34m.\u001b[0m\u001b[0m_get_draco_rank\u001b[0m\u001b[0;34m(\u001b[0m\u001b[0;34m)\u001b[0m\u001b[0;34m\u001b[0m\u001b[0;34m\u001b[0m\u001b[0m\n\u001b[0m\u001b[1;32m     30\u001b[0m     \u001b[0mn\u001b[0m\u001b[0;34m[\u001b[0m\u001b[0;34m'anchored_draco_rank'\u001b[0m\u001b[0;34m]\u001b[0m \u001b[0;34m=\u001b[0m \u001b[0manchored\u001b[0m\u001b[0;34m.\u001b[0m\u001b[0m_get_graphscape_rank\u001b[0m\u001b[0;34m(\u001b[0m\u001b[0;34m)\u001b[0m\u001b[0;34m\u001b[0m\u001b[0;34m\u001b[0m\u001b[0m\n\u001b[1;32m     31\u001b[0m \u001b[0;34m\u001b[0m\u001b[0m\n",
      "\u001b[0;32m~/dziban/dziban/mkiv/chart.py\u001b[0m in \u001b[0;36m_get_draco_rank\u001b[0;34m(self)\u001b[0m\n\u001b[1;32m     96\u001b[0m \u001b[0;34m\u001b[0m\u001b[0m\n\u001b[1;32m     97\u001b[0m   \u001b[0;32mdef\u001b[0m \u001b[0m_get_draco_rank\u001b[0m\u001b[0;34m(\u001b[0m\u001b[0mself\u001b[0m\u001b[0;34m)\u001b[0m\u001b[0;34m:\u001b[0m\u001b[0;34m\u001b[0m\u001b[0;34m\u001b[0m\u001b[0m\n\u001b[0;32m---> 98\u001b[0;31m     \u001b[0;32mreturn\u001b[0m \u001b[0mself\u001b[0m\u001b[0;34m.\u001b[0m\u001b[0m_get_rank\u001b[0m\u001b[0;34m(\u001b[0m\u001b[0;34m'draco'\u001b[0m\u001b[0;34m)\u001b[0m\u001b[0;34m\u001b[0m\u001b[0;34m\u001b[0m\u001b[0m\n\u001b[0m\u001b[1;32m     99\u001b[0m \u001b[0;34m\u001b[0m\u001b[0m\n\u001b[1;32m    100\u001b[0m   \u001b[0;32mdef\u001b[0m \u001b[0m_get_graphscape_rank\u001b[0m\u001b[0;34m(\u001b[0m\u001b[0mself\u001b[0m\u001b[0;34m,\u001b[0m \u001b[0manchor_for_cold\u001b[0m\u001b[0;34m=\u001b[0m\u001b[0;32mNone\u001b[0m\u001b[0;34m)\u001b[0m\u001b[0;34m:\u001b[0m\u001b[0;34m\u001b[0m\u001b[0;34m\u001b[0m\u001b[0m\n",
      "\u001b[0;32m~/dziban/dziban/mkiv/chart.py\u001b[0m in \u001b[0;36m_get_rank\u001b[0;34m(self, function, anchor_for_cold)\u001b[0m\n\u001b[1;32m    128\u001b[0m     \u001b[0mtopk\u001b[0m \u001b[0;34m=\u001b[0m \u001b[0mdraco\u001b[0m\u001b[0;34m(\u001b[0m\u001b[0mquery\u001b[0m\u001b[0;34m,\u001b[0m \u001b[0mfiles\u001b[0m\u001b[0;34m=\u001b[0m\u001b[0mopt\u001b[0m\u001b[0;34m,\u001b[0m \u001b[0mtopk\u001b[0m\u001b[0;34m=\u001b[0m\u001b[0;32mTrue\u001b[0m\u001b[0;34m,\u001b[0m \u001b[0mk\u001b[0m\u001b[0;34m=\u001b[0m\u001b[0mChart\u001b[0m\u001b[0;34m.\u001b[0m\u001b[0mK\u001b[0m\u001b[0;34m,\u001b[0m \u001b[0msilence_warnings\u001b[0m\u001b[0;34m=\u001b[0m\u001b[0;32mTrue\u001b[0m\u001b[0;34m)\u001b[0m\u001b[0;34m\u001b[0m\u001b[0;34m\u001b[0m\u001b[0m\n\u001b[1;32m    129\u001b[0m \u001b[0;34m\u001b[0m\u001b[0m\n\u001b[0;32m--> 130\u001b[0;31m     \u001b[0mtopk_vegalite\u001b[0m \u001b[0;34m=\u001b[0m \u001b[0;34m{\u001b[0m \u001b[0mjson\u001b[0m\u001b[0;34m.\u001b[0m\u001b[0mdumps\u001b[0m\u001b[0;34m(\u001b[0m\u001b[0mc\u001b[0m\u001b[0;34m.\u001b[0m\u001b[0mas_vl\u001b[0m\u001b[0;34m(\u001b[0m\u001b[0mChart\u001b[0m\u001b[0;34m.\u001b[0m\u001b[0mDEFAULT_NAME\u001b[0m\u001b[0;34m)\u001b[0m\u001b[0;34m,\u001b[0m \u001b[0msort_keys\u001b[0m\u001b[0;34m=\u001b[0m\u001b[0;32mTrue\u001b[0m\u001b[0;34m)\u001b[0m\u001b[0;34m:\u001b[0m\u001b[0mrank\u001b[0m \u001b[0;32mfor\u001b[0m \u001b[0mrank\u001b[0m\u001b[0;34m,\u001b[0m \u001b[0mc\u001b[0m \u001b[0;32min\u001b[0m \u001b[0menumerate\u001b[0m\u001b[0;34m(\u001b[0m\u001b[0mtopk\u001b[0m\u001b[0;34m)\u001b[0m \u001b[0;34m}\u001b[0m\u001b[0;34m\u001b[0m\u001b[0;34m\u001b[0m\u001b[0m\n\u001b[0m\u001b[1;32m    131\u001b[0m \u001b[0;34m\u001b[0m\u001b[0m\n\u001b[1;32m    132\u001b[0m     \u001b[0;32mif\u001b[0m \u001b[0;34m(\u001b[0m\u001b[0mbest_vegalite\u001b[0m \u001b[0;32min\u001b[0m \u001b[0mtopk_vegalite\u001b[0m\u001b[0;34m)\u001b[0m\u001b[0;34m:\u001b[0m\u001b[0;34m\u001b[0m\u001b[0;34m\u001b[0m\u001b[0m\n",
      "\u001b[0;32m~/dziban/dziban/mkiv/chart.py\u001b[0m in \u001b[0;36m<dictcomp>\u001b[0;34m(.0)\u001b[0m\n\u001b[1;32m    128\u001b[0m     \u001b[0mtopk\u001b[0m \u001b[0;34m=\u001b[0m \u001b[0mdraco\u001b[0m\u001b[0;34m(\u001b[0m\u001b[0mquery\u001b[0m\u001b[0;34m,\u001b[0m \u001b[0mfiles\u001b[0m\u001b[0;34m=\u001b[0m\u001b[0mopt\u001b[0m\u001b[0;34m,\u001b[0m \u001b[0mtopk\u001b[0m\u001b[0;34m=\u001b[0m\u001b[0;32mTrue\u001b[0m\u001b[0;34m,\u001b[0m \u001b[0mk\u001b[0m\u001b[0;34m=\u001b[0m\u001b[0mChart\u001b[0m\u001b[0;34m.\u001b[0m\u001b[0mK\u001b[0m\u001b[0;34m,\u001b[0m \u001b[0msilence_warnings\u001b[0m\u001b[0;34m=\u001b[0m\u001b[0;32mTrue\u001b[0m\u001b[0;34m)\u001b[0m\u001b[0;34m\u001b[0m\u001b[0;34m\u001b[0m\u001b[0m\n\u001b[1;32m    129\u001b[0m \u001b[0;34m\u001b[0m\u001b[0m\n\u001b[0;32m--> 130\u001b[0;31m     \u001b[0mtopk_vegalite\u001b[0m \u001b[0;34m=\u001b[0m \u001b[0;34m{\u001b[0m \u001b[0mjson\u001b[0m\u001b[0;34m.\u001b[0m\u001b[0mdumps\u001b[0m\u001b[0;34m(\u001b[0m\u001b[0mc\u001b[0m\u001b[0;34m.\u001b[0m\u001b[0mas_vl\u001b[0m\u001b[0;34m(\u001b[0m\u001b[0mChart\u001b[0m\u001b[0;34m.\u001b[0m\u001b[0mDEFAULT_NAME\u001b[0m\u001b[0;34m)\u001b[0m\u001b[0;34m,\u001b[0m \u001b[0msort_keys\u001b[0m\u001b[0;34m=\u001b[0m\u001b[0;32mTrue\u001b[0m\u001b[0;34m)\u001b[0m\u001b[0;34m:\u001b[0m\u001b[0mrank\u001b[0m \u001b[0;32mfor\u001b[0m \u001b[0mrank\u001b[0m\u001b[0;34m,\u001b[0m \u001b[0mc\u001b[0m \u001b[0;32min\u001b[0m \u001b[0menumerate\u001b[0m\u001b[0;34m(\u001b[0m\u001b[0mtopk\u001b[0m\u001b[0;34m)\u001b[0m \u001b[0;34m}\u001b[0m\u001b[0;34m\u001b[0m\u001b[0;34m\u001b[0m\u001b[0m\n\u001b[0m\u001b[1;32m    131\u001b[0m \u001b[0;34m\u001b[0m\u001b[0m\n\u001b[1;32m    132\u001b[0m     \u001b[0;32mif\u001b[0m \u001b[0;34m(\u001b[0m\u001b[0mbest_vegalite\u001b[0m \u001b[0;32min\u001b[0m \u001b[0mtopk_vegalite\u001b[0m\u001b[0;34m)\u001b[0m\u001b[0;34m:\u001b[0m\u001b[0;34m\u001b[0m\u001b[0;34m\u001b[0m\u001b[0m\n",
      "\u001b[0;32m~/draco/draco/run.py\u001b[0m in \u001b[0;36mas_vl\u001b[0;34m(self, v)\u001b[0m\n\u001b[1;32m    103\u001b[0m \u001b[0;34m\u001b[0m\u001b[0m\n\u001b[1;32m    104\u001b[0m     \u001b[0;32mdef\u001b[0m \u001b[0mas_vl\u001b[0m\u001b[0;34m(\u001b[0m\u001b[0mself\u001b[0m\u001b[0;34m,\u001b[0m\u001b[0mv\u001b[0m\u001b[0;34m)\u001b[0m \u001b[0;34m->\u001b[0m \u001b[0mDict\u001b[0m\u001b[0;34m:\u001b[0m\u001b[0;34m\u001b[0m\u001b[0;34m\u001b[0m\u001b[0m\n\u001b[0;32m--> 105\u001b[0;31m         \u001b[0mspecs\u001b[0m \u001b[0;34m=\u001b[0m \u001b[0masp2vl\u001b[0m\u001b[0;34m(\u001b[0m\u001b[0mself\u001b[0m\u001b[0;34m.\u001b[0m\u001b[0mprops\u001b[0m\u001b[0;34m[\u001b[0m\u001b[0mv\u001b[0m\u001b[0;34m]\u001b[0m\u001b[0;34m)\u001b[0m\u001b[0;34m\u001b[0m\u001b[0;34m\u001b[0m\u001b[0m\n\u001b[0m\u001b[1;32m    106\u001b[0m         \u001b[0;32mreturn\u001b[0m \u001b[0mspecs\u001b[0m\u001b[0;34m[\u001b[0m\u001b[0mv\u001b[0m\u001b[0;34m]\u001b[0m\u001b[0;34m\u001b[0m\u001b[0;34m\u001b[0m\u001b[0m\n\u001b[1;32m    107\u001b[0m \u001b[0;34m\u001b[0m\u001b[0m\n",
      "\u001b[0;32m~/draco/draco/js.py\u001b[0m in \u001b[0;36masp2vl\u001b[0;34m(asp)\u001b[0m\n\u001b[1;32m     33\u001b[0m         \u001b[0mstdin\u001b[0m\u001b[0;34m=\u001b[0m\u001b[0msubprocess\u001b[0m\u001b[0;34m.\u001b[0m\u001b[0mPIPE\u001b[0m\u001b[0;34m,\u001b[0m\u001b[0;34m\u001b[0m\u001b[0;34m\u001b[0m\u001b[0m\n\u001b[1;32m     34\u001b[0m         \u001b[0mstdout\u001b[0m\u001b[0;34m=\u001b[0m\u001b[0msubprocess\u001b[0m\u001b[0;34m.\u001b[0m\u001b[0mPIPE\u001b[0m\u001b[0;34m,\u001b[0m\u001b[0;34m\u001b[0m\u001b[0;34m\u001b[0m\u001b[0m\n\u001b[0;32m---> 35\u001b[0;31m         \u001b[0mstderr\u001b[0m\u001b[0;34m=\u001b[0m\u001b[0msubprocess\u001b[0m\u001b[0;34m.\u001b[0m\u001b[0mPIPE\u001b[0m\u001b[0;34m,\u001b[0m\u001b[0;34m\u001b[0m\u001b[0;34m\u001b[0m\u001b[0m\n\u001b[0m\u001b[1;32m     36\u001b[0m     )\n\u001b[1;32m     37\u001b[0m     \u001b[0mstdout\u001b[0m\u001b[0;34m,\u001b[0m \u001b[0mstderr\u001b[0m \u001b[0;34m=\u001b[0m \u001b[0mproc\u001b[0m\u001b[0;34m.\u001b[0m\u001b[0mcommunicate\u001b[0m\u001b[0;34m(\u001b[0m\u001b[0;34m\"\\n\"\u001b[0m\u001b[0;34m.\u001b[0m\u001b[0mjoin\u001b[0m\u001b[0;34m(\u001b[0m\u001b[0masp\u001b[0m\u001b[0;34m)\u001b[0m\u001b[0;34m.\u001b[0m\u001b[0mencode\u001b[0m\u001b[0;34m(\u001b[0m\u001b[0;34m\"utf8\"\u001b[0m\u001b[0;34m)\u001b[0m\u001b[0;34m)\u001b[0m\u001b[0;34m\u001b[0m\u001b[0;34m\u001b[0m\u001b[0m\n",
      "\u001b[0;32m/anaconda3/lib/python3.6/subprocess.py\u001b[0m in \u001b[0;36m__init__\u001b[0;34m(self, args, bufsize, executable, stdin, stdout, stderr, preexec_fn, close_fds, shell, cwd, env, universal_newlines, startupinfo, creationflags, restore_signals, start_new_session, pass_fds, encoding, errors)\u001b[0m\n\u001b[1;32m    685\u001b[0m         (p2cread, p2cwrite,\n\u001b[1;32m    686\u001b[0m          \u001b[0mc2pread\u001b[0m\u001b[0;34m,\u001b[0m \u001b[0mc2pwrite\u001b[0m\u001b[0;34m,\u001b[0m\u001b[0;34m\u001b[0m\u001b[0;34m\u001b[0m\u001b[0m\n\u001b[0;32m--> 687\u001b[0;31m          errread, errwrite) = self._get_handles(stdin, stdout, stderr)\n\u001b[0m\u001b[1;32m    688\u001b[0m \u001b[0;34m\u001b[0m\u001b[0m\n\u001b[1;32m    689\u001b[0m         \u001b[0;31m# We wrap OS handles *before* launching the child, otherwise a\u001b[0m\u001b[0;34m\u001b[0m\u001b[0;34m\u001b[0m\u001b[0;34m\u001b[0m\u001b[0m\n",
      "\u001b[0;32m/anaconda3/lib/python3.6/subprocess.py\u001b[0m in \u001b[0;36m_get_handles\u001b[0;34m(self, stdin, stdout, stderr)\u001b[0m\n\u001b[1;32m   1183\u001b[0m                 \u001b[0;32mpass\u001b[0m\u001b[0;34m\u001b[0m\u001b[0;34m\u001b[0m\u001b[0m\n\u001b[1;32m   1184\u001b[0m             \u001b[0;32melif\u001b[0m \u001b[0mstdin\u001b[0m \u001b[0;34m==\u001b[0m \u001b[0mPIPE\u001b[0m\u001b[0;34m:\u001b[0m\u001b[0;34m\u001b[0m\u001b[0;34m\u001b[0m\u001b[0m\n\u001b[0;32m-> 1185\u001b[0;31m                 \u001b[0mp2cread\u001b[0m\u001b[0;34m,\u001b[0m \u001b[0mp2cwrite\u001b[0m \u001b[0;34m=\u001b[0m \u001b[0mos\u001b[0m\u001b[0;34m.\u001b[0m\u001b[0mpipe\u001b[0m\u001b[0;34m(\u001b[0m\u001b[0;34m)\u001b[0m\u001b[0;34m\u001b[0m\u001b[0;34m\u001b[0m\u001b[0m\n\u001b[0m\u001b[1;32m   1186\u001b[0m             \u001b[0;32melif\u001b[0m \u001b[0mstdin\u001b[0m \u001b[0;34m==\u001b[0m \u001b[0mDEVNULL\u001b[0m\u001b[0;34m:\u001b[0m\u001b[0;34m\u001b[0m\u001b[0;34m\u001b[0m\u001b[0m\n\u001b[1;32m   1187\u001b[0m                 \u001b[0mp2cread\u001b[0m \u001b[0;34m=\u001b[0m \u001b[0mself\u001b[0m\u001b[0;34m.\u001b[0m\u001b[0m_get_devnull\u001b[0m\u001b[0;34m(\u001b[0m\u001b[0;34m)\u001b[0m\u001b[0;34m\u001b[0m\u001b[0;34m\u001b[0m\u001b[0m\n",
      "\u001b[0;31mKeyboardInterrupt\u001b[0m: "
     ]
    }
   ],
   "source": [
    "with_differences = []\n",
    "for i in tqdm(range(len(nexts))):\n",
    "    n = nexts[i]\n",
    "    cold = n['cold']\n",
    "    anchored = n['anchored']\n",
    "    \n",
    "    if not cold.is_satisfiable():\n",
    "        continue\n",
    "        \n",
    "    if not anchored.is_satisfiable():\n",
    "        print(n['prior']._get_vegalite())\n",
    "        print(n['edit'])\n",
    "        print('\\n'.join(n['anchored']._get_full_query()))\n",
    "        print(n['cold']._get_asp_complete())\n",
    "        break\n",
    "        \n",
    "    cold_graphscape = set(n['cold'] - n['prior'])\n",
    "    anchored_graphscape = set(n['anchored']._get_graphscape_list())\n",
    "    \n",
    "    left_diff = cold_graphscape - anchored_graphscape\n",
    "    right_diff = anchored_graphscape - cold_graphscape\n",
    "    \n",
    "    n['left_diff'] = left_diff\n",
    "    n['right_diff'] = right_diff\n",
    "    \n",
    "    n['cold_draco_rank'] = cold._get_draco_rank()\n",
    "    n['cold_graphscape_rank'] = cold._get_graphscape_rank(n['prior'])\n",
    "    \n",
    "    n['anchored_draco_rank'] = anchored._get_draco_rank()\n",
    "    n['anchored_draco_rank'] = anchored._get_graphscape_rank()\n",
    "\n",
    "    "
   ]
  },
  {
   "cell_type": "code",
   "execution_count": null,
   "metadata": {},
   "outputs": [],
   "source": [
    "def stringify_query(query):\n",
    "    result = ''\n",
    "    for i, field in enumerate(query):\n",
    "        if (i > 0):\n",
    "            result += ' x '\n",
    "    \n",
    "        fieldtype = field['fieldtype']\n",
    "        transform = field['transform']\n",
    "        \n",
    "        if fieldtype == 'n':\n",
    "            result += 'n'\n",
    "        elif fieldtype == 'q':\n",
    "            if transform == 'raw':\n",
    "                result += 'q'\n",
    "            else:  \n",
    "                result += '{0}({1})'.format(field['transform'], field['fieldtype'])\n",
    "        \n",
    "    return result"
   ]
  },
  {
   "cell_type": "code",
   "execution_count": null,
   "metadata": {},
   "outputs": [],
   "source": [
    "def stringify_edit(prior, edit):\n",
    "    etype = edit['type']\n",
    "    \n",
    "    if etype == 'mark':\n",
    "        return '{0} <> {1}'.format(prior._get_vegalite()['mark'], edit['mark'])\n",
    "    elif etype == 'add_field':\n",
    "        return '+ {0}({1})'.format(edit['transform'], edit['fieldtype'])\n",
    "    elif etype == 'bin':\n",
    "        return '<- bin(q)'\n",
    "    elif etype == 'agg':\n",
    "        return '<- agg(q)'"
   ]
  },
  {
   "cell_type": "code",
   "execution_count": null,
   "metadata": {},
   "outputs": [],
   "source": [
    "data = []\n",
    "for i in tqdm(range(len(nexts))):\n",
    "    n = nexts[i]\n",
    "    prior_query = stringify_query(n['prior_query'])\n",
    "    edit = stringify_edit(n['prior'], n['edit'])\n",
    "    \n",
    "    left_diff = None\n",
    "    if ('left_diff' in n):\n",
    "        left_diff = json.dumps([x[0][5:] for x in n['left_diff']])\n",
    "        right_diff = json.dumps([x[0][5:] for x in n['right_diff']])\n",
    "    \n",
    "    data.append({\n",
    "        'prior_query': prior_query,\n",
    "        'edit': edit,\n",
    "        'left_diff': left_diff,\n",
    "        'right_diff': right_diff\n",
    "    })"
   ]
  },
  {
   "cell_type": "code",
   "execution_count": null,
   "metadata": {},
   "outputs": [],
   "source": [
    "df = pd.DataFrame(data, columns=['prior_query', 'edit', 'left_diff', 'right_diff'])\n",
    "df.head(len(df))"
   ]
  },
  {
   "cell_type": "code",
   "execution_count": null,
   "metadata": {},
   "outputs": [],
   "source": []
  }
 ],
 "metadata": {
  "kernelspec": {
   "display_name": "Python 3",
   "language": "python",
   "name": "python3"
  },
  "language_info": {
   "codemirror_mode": {
    "name": "ipython",
    "version": 3
   },
   "file_extension": ".py",
   "mimetype": "text/x-python",
   "name": "python",
   "nbconvert_exporter": "python",
   "pygments_lexer": "ipython3",
   "version": "3.6.8"
  }
 },
 "nbformat": 4,
 "nbformat_minor": 2
}
